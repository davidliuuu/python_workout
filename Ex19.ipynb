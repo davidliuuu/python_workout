{
 "cells": [
  {
   "cell_type": "markdown",
   "metadata": {},
   "source": [
    "**擷取登入帳號資訊**\n",
    "\n",
    "1.在Unix系統中，文字檔**passwd**用來記錄登入帳號的相關資訊。\n",
    "\n",
    "2.這題中試著用Python程式來解讀並抽取當中的部分資料。\n",
    "\n",
    "3.寫一個函式**passwd_to_dict()**，讀取**passwd.cfg**。\n",
    "\n",
    "4.函示會讀取所有使用者帳號名稱以及其ID。"
   ]
  },
  {
   "cell_type": "code",
   "execution_count": 6,
   "metadata": {},
   "outputs": [
    {
     "name": "stdout",
     "output_type": "stream",
     "text": [
      "{'root': '0', 'daemon': '1', 'bin': '2', 'sys': '3', 'sync': '4', 'games': '5', 'man': '6', 'lerner': '1000'}\n"
     ]
    }
   ],
   "source": [
    "def passwd_to_dict(file):\n",
    "    user = {}\n",
    "    f = open(file , 'r')\n",
    "    for line in f:\n",
    "        newline = line.split(':')\n",
    "        user.update({newline[0] : newline[2]})\n",
    "        \n",
    "    print(user)\n",
    "    f.close()\n",
    "    \n",
    "passwd_to_dict('passwd.cfg')"
   ]
  },
  {
   "cell_type": "code",
   "execution_count": null,
   "metadata": {},
   "outputs": [],
   "source": []
  }
 ],
 "metadata": {
  "kernelspec": {
   "display_name": "Python 3",
   "language": "python",
   "name": "python3"
  },
  "language_info": {
   "codemirror_mode": {
    "name": "ipython",
    "version": 3
   },
   "file_extension": ".py",
   "mimetype": "text/x-python",
   "name": "python",
   "nbconvert_exporter": "python",
   "pygments_lexer": "ipython3",
   "version": "3.8.5"
  }
 },
 "nbformat": 4,
 "nbformat_minor": 4
}
