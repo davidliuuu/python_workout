{
  "nbformat": 4,
  "nbformat_minor": 0,
  "metadata": {
    "colab": {
      "name": "Ex01.ipynb",
      "provenance": [],
      "collapsed_sections": [],
      "authorship_tag": "ABX9TyN8vVlRR79PQRfrWwkKqHjy",
      "include_colab_link": true
    },
    "kernelspec": {
      "name": "python3",
      "display_name": "Python 3"
    },
    "language_info": {
      "name": "python"
    }
  },
  "cells": [
    {
      "cell_type": "markdown",
      "metadata": {
        "id": "view-in-github",
        "colab_type": "text"
      },
      "source": [
        "<a href=\"https://colab.research.google.com/github/davidliuuu/python_workout/blob/main/Ex01.ipynb\" target=\"_parent\"><img src=\"https://colab.research.google.com/assets/colab-badge.svg\" alt=\"Open In Colab\"/></a>"
      ]
    },
    {
      "cell_type": "markdown",
      "metadata": {
        "id": "exhDvUeYv6Oj"
      },
      "source": [
        "猜數字遊戲\n",
        "\n",
        "1.寫一個沒有參數的函式 guessing_game()。\n",
        "\n",
        "2.函式執行時，會隨機產生一個介於0到99的數字。\n",
        "\n",
        "3.然後，函示會請使用者猜這個數字:使用者每次輸入一個數字後，函示會提式猜得太高、太低或者猜對了。\n",
        "\n",
        "4.使用者猜對數字後，函式就會結束執行。 \n"
      ]
    },
    {
      "cell_type": "code",
      "metadata": {
        "id": "K3qXffW-v0_Y"
      },
      "source": [
        "import random\n",
        "\n",
        "\n",
        "def guessing_game():\n",
        "  Success = 0\n",
        "  Answer = random.randint(0,100)\n",
        "  print(Answer)\n",
        "  while Success==0:\n",
        "    num = (input('請輸入數字(0-99):'))\n",
        "    if num.isdigit():\n",
        "      younum = int(num)\n",
        "      if Answer == younum:\n",
        "        print(\"答對了!答案是\",younum)\n",
        "        Success = 1\n",
        "      elif Answer > younum:\n",
        "        print(\"猜得太低，再試一次\")\n",
        "      else:\n",
        "        print(\"猜得太高，再試一次\")\n",
        "    else:\n",
        "      print(\"請輸入正確數字!\")\n",
        "\n",
        "  \n",
        "\n",
        "#ver1 無判斷確保使用者輸入的字串能轉為整數\n",
        "#ver2 加入字串物件isdigt()method\n",
        "\n",
        "  \n",
        "\n",
        "\n"
      ],
      "execution_count": null,
      "outputs": []
    },
    {
      "cell_type": "code",
      "metadata": {
        "colab": {
          "base_uri": "https://localhost:8080/"
        },
        "id": "qVP9UqNbzEL2",
        "outputId": "65235374-8695-47d7-c6b9-baa3b1c28211"
      },
      "source": [
        "guessing_game()"
      ],
      "execution_count": null,
      "outputs": [
        {
          "output_type": "stream",
          "text": [
            "43\n",
            "請輸入數字(0-99):a\n",
            "請輸入正確數字!\n",
            "請輸入數字(0-99):\n",
            "請輸入正確數字!\n",
            "請輸入數字(0-99):50\n",
            "猜得太高，再試一次\n",
            "請輸入數字(0-99):48\n",
            "猜得太高，再試一次\n",
            "請輸入數字(0-99):42\n",
            "猜得太低，再試一次\n",
            "請輸入數字(0-99):43\n",
            "答對了!答案是 43\n"
          ],
          "name": "stdout"
        }
      ]
    },
    {
      "cell_type": "markdown",
      "metadata": {
        "id": "B6Enot3Z6Yk5"
      },
      "source": [
        "isdigit() method 檢查是否可以轉為整數"
      ]
    }
  ]
}