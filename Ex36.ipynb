{
 "cells": [
  {
   "cell_type": "markdown",
   "metadata": {},
   "source": [
    "**所得稅計算模組**\n",
    "\n",
    "1.撰寫一個模組**income_tax.py**\n",
    "\n",
    "2.**TAX_RATE**,一個dict,記載所得級距的起點與該級距的稅率。\n",
    "\n",
    "3.**find_tax_rage()**函式,根據所得傳回對應的稅率。\n",
    "\n",
    "4.**calcutate_tax()**函式,使用find_tax_rage()來計算並傳回所得稅額。"
   ]
  },
  {
   "cell_type": "code",
   "execution_count": 14,
   "metadata": {},
   "outputs": [
    {
     "name": "stdout",
     "output_type": "stream",
     "text": [
      "23100.0\n"
     ]
    }
   ],
   "source": [
    "from income_tax import calculate_tax\n",
    "\n",
    "print(calculate_tax(77000))"
   ]
  },
  {
   "cell_type": "code",
   "execution_count": null,
   "metadata": {},
   "outputs": [],
   "source": []
  }
 ],
 "metadata": {
  "kernelspec": {
   "display_name": "Python 3",
   "language": "python",
   "name": "python3"
  },
  "language_info": {
   "codemirror_mode": {
    "name": "ipython",
    "version": 3
   },
   "file_extension": ".py",
   "mimetype": "text/x-python",
   "name": "python",
   "nbconvert_exporter": "python",
   "pygments_lexer": "ipython3",
   "version": "3.8.5"
  }
 },
 "nbformat": 4,
 "nbformat_minor": 4
}
