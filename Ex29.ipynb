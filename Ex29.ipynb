{
 "cells": [
  {
   "cell_type": "markdown",
   "metadata": {},
   "source": [
    "**只加總資料中的數字**\n",
    "\n",
    "1.寫一個函式**sum_numbers()**,傳入一個字串(當中各筆資料用空格分開)。\n",
    "\n",
    "2.以生成式過濾出字串中的整數，並傳回其總和。"
   ]
  },
  {
   "cell_type": "code",
   "execution_count": 7,
   "metadata": {},
   "outputs": [
    {
     "name": "stdout",
     "output_type": "stream",
     "text": [
      "100\n"
     ]
    }
   ],
   "source": [
    "def sum_numbers(word):\n",
    "    output = 0\n",
    "    data = word.split(\" \")\n",
    "    output_list = [x for x in data if x.isdigit()]\n",
    "    for i in output_list:\n",
    "        output += int(i)\n",
    "    return output\n",
    "\n",
    "\n",
    "\n",
    "print(sum_numbers('10 abc 20 de44 30 55fg 40'))"
   ]
  },
  {
   "cell_type": "code",
   "execution_count": null,
   "metadata": {},
   "outputs": [],
   "source": []
  }
 ],
 "metadata": {
  "kernelspec": {
   "display_name": "Python 3",
   "language": "python",
   "name": "python3"
  },
  "language_info": {
   "codemirror_mode": {
    "name": "ipython",
    "version": 3
   },
   "file_extension": ".py",
   "mimetype": "text/x-python",
   "name": "python",
   "nbconvert_exporter": "python",
   "pygments_lexer": "ipython3",
   "version": "3.8.5"
  }
 },
 "nbformat": 4,
 "nbformat_minor": 4
}
