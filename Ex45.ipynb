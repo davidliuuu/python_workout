{
 "cells": [
  {
   "cell_type": "markdown",
   "metadata": {},
   "source": [
    "**動物園類別**\n",
    "\n",
    "1.撰寫一個**Zoo**類別,以其物件代表整個動物園。印出它時就會顯示當中的所有動物展示區(後者則會印出其中的動物)\n",
    "\n",
    "2.除此之外,為了方便統計動物資訊,Zoo物件也會有幾個method,能尋找符合特定顏色或腳數量的動物、以及算出所有動物的腳總數。\n"
   ]
  },
  {
   "cell_type": "code",
   "execution_count": 5,
   "metadata": {},
   "outputs": [
    {
     "name": "stdout",
     "output_type": "stream",
     "text": [
      "動物園:\n",
      "展示區編號1:Elephant(color = '灰',leg_num=4), Zebra(color = '黑白',leg_num=4)\n",
      "展示區編號2:Snake(color = '綠',leg_num=0), Parrot(color = '灰',leg_num=2)\n",
      "-----\n",
      "灰色動物 [Elephant(color = '灰',leg_num=4), Parrot(color = '灰',leg_num=2)]\n",
      "四條腿的動物 [Elephant(color = '灰',leg_num=4), Zebra(color = '黑白',leg_num=4)]\n",
      "腿的總數 10\n"
     ]
    }
   ],
   "source": [
    "\n",
    "class Animal:\n",
    "    def __init__(self,color,leg_num):\n",
    "        self.species =  self.__class__.__name__  #透過 __class__.__name__取得類別名稱\n",
    "        self.color = color \n",
    "        self.leg_num = leg_num \n",
    "        \n",
    "    def __repr__(self):\n",
    "        return f'{self.species}(color = {self.color!r},leg_num={self.leg_num})' #!r代表對這些值呼叫repr(),這樣若值是字串,印出時就會加上單引號\n",
    "\n",
    "    \n",
    "class Zebra(Animal):\n",
    "    def __init__(self,color):\n",
    "        super().__init__(color,4)  #super() 取得父類別\n",
    "\n",
    "        \n",
    "class Elephant(Animal):\n",
    "    def __init__(self,color):\n",
    "        super().__init__(color,4)  #super() 取得父類別\n",
    "        \n",
    "class Snake(Animal):\n",
    "    def __init__(self,color):\n",
    "        super().__init__(color,0)  #super() 取得父類別\n",
    "        \n",
    "class Parrot(Animal):\n",
    "    def __init__(self,color):\n",
    "        super().__init__(color,2)  #super() 取得父類別\n",
    "        \n",
    "class Exhibit():\n",
    "    \n",
    "    def __init__(self, id_num):\n",
    "        self.id_num = id_num\n",
    "        self.animals = []\n",
    "        \n",
    "    def add_animals(self, *new_animals):\n",
    "        for animal in new_animals:\n",
    "            self.animals.append(animal)\n",
    "            \n",
    "    def __repr__(self):\n",
    "        return f'展示區編號{self.id_num}:' + f'{\", \".join([str(animal) for animal in self.animals])}'\n",
    "    \n",
    "\n",
    "    \n",
    "class Zoo():\n",
    "    def __init__(self):\n",
    "        self.exhibits = [] #紀錄動物園內各動物的屬性\n",
    "        \n",
    "    def add_exhibits(self,*new_exhibits):\n",
    "        for exhibit in new_exhibits:\n",
    "            self.exhibits.append(exhibit)\n",
    "    \n",
    "    def __repr__(self):\n",
    "        return '動物園:\\n' + \\\n",
    "                    '\\n'.join([str(exhibit) for exhibit in self.exhibits])\n",
    "    \n",
    "    def animals_by_color(self,color):\n",
    "        return [animal for exhibit in self.exhibits \n",
    "                    for animal in exhibit.animals \n",
    "                        if animal.color == color]\n",
    "                        \n",
    "    def animals_by_leg_num(self,leg_num):\n",
    "        return [animal for exhibit in self.exhibits \n",
    "                    for animal in exhibit.animals \n",
    "                        if animal.leg_num == leg_num]\n",
    "    \n",
    "    def animals_total_leg_num(self):\n",
    "        return sum([animal.leg_num \n",
    "                    for exhibit in self.exhibits\n",
    "                    for animal in exhibit.animals])\n",
    "    \n",
    "zoo = Zoo()    \n",
    "ex1 = Exhibit(1)\n",
    "ex2 = Exhibit(2)\n",
    "\n",
    "ex1.add_animals(Elephant('灰'),Zebra('黑白'))\n",
    "ex2.add_animals(Snake('綠'),Parrot('灰'))\n",
    "zoo.add_exhibits(ex1,ex2)\n",
    "print(zoo)\n",
    "print('-----')\n",
    "print('灰色動物',zoo.animals_by_color('灰'))\n",
    "print('四條腿的動物',zoo.animals_by_leg_num(4))\n",
    "print('腿的總數',zoo.animals_total_leg_num())\n",
    "\n",
    "\n"
   ]
  },
  {
   "cell_type": "code",
   "execution_count": null,
   "metadata": {},
   "outputs": [],
   "source": []
  }
 ],
 "metadata": {
  "kernelspec": {
   "display_name": "Python 3",
   "language": "python",
   "name": "python3"
  },
  "language_info": {
   "codemirror_mode": {
    "name": "ipython",
    "version": 3
   },
   "file_extension": ".py",
   "mimetype": "text/x-python",
   "name": "python",
   "nbconvert_exporter": "python",
   "pygments_lexer": "ipython3",
   "version": "3.8.5"
  }
 },
 "nbformat": 4,
 "nbformat_minor": 4
}
