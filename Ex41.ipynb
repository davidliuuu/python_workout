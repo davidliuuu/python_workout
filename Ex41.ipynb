{
 "cells": [
  {
   "cell_type": "markdown",
   "metadata": {},
   "source": [
    "**特大碗冰淇淋**\n",
    "\n",
    "1.用繼承的方式撰寫**Bowl**的子類別**ExtraBowl**,並改變此類別的**max_scoops**屬性,使得透過ExtraBowl產生的所有物件都可裝五球冰淇淋"
   ]
  },
  {
   "cell_type": "code",
   "execution_count": 3,
   "metadata": {},
   "outputs": [
    {
     "name": "stdout",
     "output_type": "stream",
     "text": [
      "Bowl(scoops=[Scoop(巧克力), Scoop(香草), Scoop(薄荷), Scoop(焦糖), Scoop(抹茶)])\n"
     ]
    }
   ],
   "source": [
    "class Scoop :\n",
    "    def __init__(self,flavor):\n",
    "        self.flavor = flavor\n",
    "    \n",
    "    def __repr__(self):\n",
    "        return f'Scoop({self.flavor})'\n",
    "        \n",
    "class Bowl:\n",
    "    max_scoops = 3\n",
    "    \n",
    "    def __init__(self):\n",
    "        self.scoops = []\n",
    "        \n",
    "    def add_scoop(self,*new_scoops):\n",
    "        for new_scoop in new_scoops:\n",
    "            if len(self.scoops) < self.max_scoops:\n",
    "                self.scoops.append(new_scoop)\n",
    "    \n",
    "    def __repr__(self):\n",
    "        return f'Bowl(scoops={self.scoops})'\n",
    "    \n",
    "    \n",
    "class ExtraBowl(Bowl):\n",
    "    max_scoops = 5\n",
    "\n",
    "bowl = ExtraBowl()\n",
    "bowl.add_scoop(Scoop('巧克力'))\n",
    "bowl.add_scoop(Scoop('香草'),Scoop('薄荷'))\n",
    "bowl.add_scoop(Scoop('焦糖'),Scoop('抹茶'))\n",
    "\n",
    "print(bowl)"
   ]
  },
  {
   "cell_type": "code",
   "execution_count": null,
   "metadata": {},
   "outputs": [],
   "source": []
  }
 ],
 "metadata": {
  "kernelspec": {
   "display_name": "Python 3",
   "language": "python",
   "name": "python3"
  },
  "language_info": {
   "codemirror_mode": {
    "name": "ipython",
    "version": 3
   },
   "file_extension": ".py",
   "mimetype": "text/x-python",
   "name": "python",
   "nbconvert_exporter": "python",
   "pygments_lexer": "ipython3",
   "version": "3.8.5"
  }
 },
 "nbformat": 4,
 "nbformat_minor": 4
}
