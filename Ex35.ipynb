{
 "cells": [
  {
   "cell_type": "markdown",
   "metadata": {},
   "source": [
    "**希伯來數字密碼(Part I)**\n",
    "\n",
    "1.寫一個函式**gematria_dict()**,能傳回一個dict,內容為26個小寫英文字母(a~z)跟其對應值(1,26)\n",
    "\n"
   ]
  },
  {
   "cell_type": "code",
   "execution_count": 2,
   "metadata": {},
   "outputs": [
    {
     "name": "stdout",
     "output_type": "stream",
     "text": [
      "{'a': 1, 'b': 2, 'c': 3, 'd': 4, 'e': 5, 'f': 6, 'g': 7, 'h': 8, 'i': 9, 'j': 10, 'k': 11, 'l': 12, 'm': 13, 'n': 14, 'o': 15, 'p': 16, 'q': 17, 'r': 18, 's': 19, 't': 20, 'u': 21, 'v': 22, 'w': 23, 'x': 24, 'y': 25, 'z': 26}\n"
     ]
    }
   ],
   "source": [
    "import string\n",
    "\n",
    "def gematria_dict():\n",
    "    return {char : index for index , char in enumerate(string.ascii_lowercase,1)} \n",
    "    \n",
    "    \n",
    "    \n",
    "print(gematria_dict())\n"
   ]
  },
  {
   "cell_type": "markdown",
   "metadata": {},
   "source": [
    "**希伯來數字密碼(Part II)**\n",
    "\n",
    "1.**gematria_value()**可傳入一個單字,他會計算該字的希伯來數值(每個字母的對應值的加總結果)。\n",
    "\n",
    "2.**gematria_equal_words()**傳入一個要比對的單字和一個文字檔路徑，他會在該檔案中找出所有希伯來數值跟輸入單字相同的字，並以list形式傳回。"
   ]
  },
  {
   "cell_type": "code",
   "execution_count": 4,
   "metadata": {},
   "outputs": [
    {
     "name": "stdout",
     "output_type": "stream",
     "text": [
      "['puzzling', 'puzzling', 'puzzling', 'puzzling', 'explanation.', 'explanation;', 'ridiculous', 'upsetting', 'distributed:', 'distributed', 'explanation', 'explanation.', 'distributed', 'unsolicited', 'professor', 'distributed']\n"
     ]
    }
   ],
   "source": [
    "import string\n",
    "\n",
    "def gematria_dict():\n",
    "    return {char : index for index , char in enumerate(string.ascii_lowercase,1)} \n",
    "    \n",
    "    \n",
    "GEMATRIA = gematria_dict()\n",
    "\n",
    "def gematria_value(word):\n",
    "    return sum(GEMATRIA[char] for char in word.lower() if char in GEMATRIA)\n",
    "\n",
    "def gematria_equal_words(input_word,filename):\n",
    "    input_value = gematria_value(input_word)\n",
    "    with open(filename,'r',encoding = 'utf-8') as f:\n",
    "        return [word for line in f \n",
    "                        for word in line.lower().split() \n",
    "                            if input_value == gematria_value(word)]\n",
    "    \n",
    "print(gematria_equal_words('programming',r'book.txt'))   \n"
   ]
  },
  {
   "cell_type": "code",
   "execution_count": null,
   "metadata": {},
   "outputs": [],
   "source": []
  }
 ],
 "metadata": {
  "kernelspec": {
   "display_name": "Python 3",
   "language": "python",
   "name": "python3"
  },
  "language_info": {
   "codemirror_mode": {
    "name": "ipython",
    "version": 3
   },
   "file_extension": ".py",
   "mimetype": "text/x-python",
   "name": "python",
   "nbconvert_exporter": "python",
   "pygments_lexer": "ipython3",
   "version": "3.8.5"
  }
 },
 "nbformat": 4,
 "nbformat_minor": 4
}
