{
 "cells": [
  {
   "cell_type": "markdown",
   "metadata": {},
   "source": [
    "**豬拉丁文-檔案翻譯機**\n",
    "\n",
    "1.寫一個函式**pl_file(),傳入一個檔名,以生成式將該文字檔的內容轉成豬拉丁文後，以一個字串形式傳回。\n",
    "\n",
    "2.假設文字檔中只有櫻樹和空白，沒有標點符號等字元。\n"
   ]
  },
  {
   "cell_type": "code",
   "execution_count": 6,
   "metadata": {},
   "outputs": [
    {
     "name": "stdout",
     "output_type": "stream",
     "text": [
      "eautifulbay siay etterbay hantay glyuay xpliciteay siay etterbay hantay mplicitiay implesay siay etterbay hantay omplexcay omplexcay siay etterbay hantay omplicatedcay latfay siay etterbay hantay estednay parsesay siay etterbay hantay enseday eadabilityray ountscay\n"
     ]
    }
   ],
   "source": [
    "def pl_word(word):\n",
    "    for i in 'aeiou':\n",
    "        if i == word[0]:\n",
    "            outvalue = word + 'way'\n",
    "            return outvalue\n",
    "        else:\n",
    "            outvalue = word[1:]+word[0]+'ay'\n",
    "            return outvalue\n",
    "    \n",
    "def pl_file(filename):\n",
    "    with open(filename, 'r') as f:\n",
    "        return ' '.join([pl_word(word.lower().replace('.', ''))\n",
    "                         for line in f\n",
    "                         for word in line.split()])\n",
    "    \n",
    "\n",
    "print(pl_file(r'text2.txt'))\n",
    "    "
   ]
  },
  {
   "cell_type": "code",
   "execution_count": null,
   "metadata": {},
   "outputs": [],
   "source": []
  }
 ],
 "metadata": {
  "kernelspec": {
   "display_name": "Python 3",
   "language": "python",
   "name": "python3"
  },
  "language_info": {
   "codemirror_mode": {
    "name": "ipython",
    "version": 3
   },
   "file_extension": ".py",
   "mimetype": "text/x-python",
   "name": "python",
   "nbconvert_exporter": "python",
   "pygments_lexer": "ipython3",
   "version": "3.8.5"
  }
 },
 "nbformat": 4,
 "nbformat_minor": 4
}
