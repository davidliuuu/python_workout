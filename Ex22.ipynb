{
 "cells": [
  {
   "cell_type": "markdown",
   "metadata": {},
   "source": [
    "**讀取csv檔**\n",
    "\n",
    "1.寫一個函式**passwd_to_csv()**,傳入兩個檔名。\n",
    "\n",
    "2.函式會讀取第一個CSV格式檔案內的帳號名稱與ID資訊，並改用Tab當成資料分隔符號、寫入成第二個csv檔案\n",
    "\n"
   ]
  },
  {
   "cell_type": "code",
   "execution_count": 2,
   "metadata": {},
   "outputs": [
    {
     "name": "stdout",
     "output_type": "stream",
     "text": [
      "['root', 'x', '0', '0', 'root', '/root', '/bin/bash']\n",
      "['daemon', 'x', '1', '1', 'daemon', '/usr/sbin', '/usr/sbin/nologin']\n",
      "['bin', 'x', '2', '2', 'bin', '/bin', '/usr/sbin/nologin']\n",
      "['sys', 'x', '3', '3', 'sys', '/dev', '/usr/sbin/nologin']\n",
      "['sync', 'x', '4', '65534', 'sync', '/bin', '/bin/sync']\n",
      "['games', 'x', '5', '60', 'games', '/usr/games', '/usr/sbin/nologin']\n",
      "['man', 'x', '6', '12', 'man', '/var/cache/man', '/usr/sbin/nologin']\n",
      "['lerner', 'x', '1000', '1000', 'Reuven Lerner', '/home/lerner', '/bin/bash']\n"
     ]
    }
   ],
   "source": [
    "#讀取csv檔\n",
    "\n",
    "import csv \n",
    "\n",
    "with open('passwd.cfg','r') as f :\n",
    "    csv_reader = csv.reader(f, delimiter=':') #csv.reader() 轉成CSV檔案物件 delimiter=':' 指定分隔符號為冒號\n",
    "    for line in csv_reader:\n",
    "        print(line)"
   ]
  },
  {
   "cell_type": "code",
   "execution_count": 7,
   "metadata": {},
   "outputs": [],
   "source": [
    "#寫入資料至csv檔\n",
    "\n",
    "import csv \n",
    "\n",
    "data = [\n",
    "['root', 'x', '0', '0', 'root', '/root', '/bin/bash'],\n",
    "['daemon', 'x', '1', '1', 'daemon', '/usr/sbin', '/usr/sbin/nologin'],\n",
    "['bin', 'x', '2', '2', 'bin', '/bin', '/usr/sbin/nologin'],\n",
    "['sys', 'x', '3', '3', 'sys', '/dev', '/usr/sbin/nologin'],\n",
    "['sync', 'x', '4', '65534', 'sync', '/bin', '/bin/sync'],\n",
    "['games', 'x', '5', '60', 'games', '/usr/games', '/usr/sb,in/nologin'],\n",
    "['man', 'x', '6', '12', 'man', '/var/cache/man', '/usr/sbin/nologin'],\n",
    "['lerner', 'x', '1000', '1000', 'Reuven Lerner', '/home/lerner', '/bin/bash']\n",
    "]\n",
    "with open('passwd.csv','w') as f :\n",
    "    csv_writer = csv.writer(f, delimiter='\\t',lineterminator = '\\n') #csv.writer() 建立CSV物件 ，欄位分隔符號設為Tab \n",
    "    for line in data:\n",
    "        csv_writer.writerow(line) #將資料寫入為CSV的一行"
   ]
  },
  {
   "cell_type": "code",
   "execution_count": 6,
   "metadata": {},
   "outputs": [],
   "source": [
    "#寫入資料至csv檔 利用writerows() method 來一次寫入多行資料\n",
    "\n",
    "import csv \n",
    "\n",
    "data = [\n",
    "['root', 'x', '0', '0', 'root', '/root', '/bin/bash'],\n",
    "['daemon', 'x', '1', '1', 'daemon', '/usr/sbin', '/usr/sbin/nologin'],\n",
    "['bin', 'x', '2', '2', 'bin', '/bin', '/usr/sbin/nologin'],\n",
    "['sys', 'x', '3', '3', 'sys', '/dev', '/usr/sbin/nologin'],\n",
    "['sync', 'x', '4', '65534', 'sync', '/bin', '/bin/sync'],\n",
    "['games', 'x', '5', '60', 'games', '/usr/games', '/usr/sb,in/nologin'],\n",
    "['man', 'x', '6', '12', 'man', '/var/cache/man', '/usr/sbin/nologin'],\n",
    "['lerner', 'x', '1000', '1000', 'Reuven Lerner', '/home/lerner', '/bin/bash']\n",
    "]\n",
    "with open('passwd.csv','w') as f :\n",
    "    csv_writer = csv.writer(f, delimiter='\\t',lineterminator = '\\n') #csv.writer() 建立CSV物件 ，欄位分隔符號設為Tab \n",
    "    csv_writer.writerow(data) #將資料寫入為CSV的一行"
   ]
  },
  {
   "cell_type": "code",
   "execution_count": 14,
   "metadata": {},
   "outputs": [],
   "source": [
    "import csv\n",
    "def passwd_to_csv(file1,file2):\n",
    "    with open(file1,'r') as f_read,open(file2,'w') as f_write :\n",
    "        csv_reader = csv.reader(f_read, delimiter=':') #csv.reader() 轉成CSV檔案物件 delimiter=':' 指定分隔符號為冒號\n",
    "        csv_writer = csv.writer(f_write, delimiter='\\t',lineterminator = '\\n') #csv.writer() 建立CSV物件 ，欄位分隔符號設為Tab \n",
    "        for line in csv_reader:\n",
    "            csv_writer.writerow([line[0],line[2]]) #將資料寫入為CSV的一行\n",
    "    \n",
    "passwd_to_csv('passwd.cfg','passwd.csv')"
   ]
  },
  {
   "cell_type": "code",
   "execution_count": null,
   "metadata": {},
   "outputs": [],
   "source": []
  }
 ],
 "metadata": {
  "kernelspec": {
   "display_name": "Python 3",
   "language": "python",
   "name": "python3"
  },
  "language_info": {
   "codemirror_mode": {
    "name": "ipython",
    "version": 3
   },
   "file_extension": ".py",
   "mimetype": "text/x-python",
   "name": "python",
   "nbconvert_exporter": "python",
   "pygments_lexer": "ipython3",
   "version": "3.8.5"
  }
 },
 "nbformat": 4,
 "nbformat_minor": 4
}
