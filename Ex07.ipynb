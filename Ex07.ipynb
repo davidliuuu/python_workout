{
 "cells": [
  {
   "cell_type": "markdown",
   "metadata": {},
   "source": [
    "**ROT13 加密法**\n",
    "\n",
    "1.ROT13 其規則是將每個英文字母換成往後面數第13個字母(若超過字母範圍則回頭從A繼續算起)。\n",
    "\n",
    "2.寫一個 **rot13()** 函式，能將輸入的單字以ROT13方式加密。(只處理單詞)\n"
   ]
  },
  {
   "cell_type": "code",
   "execution_count": 4,
   "metadata": {},
   "outputs": [
    {
     "name": "stdout",
     "output_type": "stream",
     "text": [
      "apple\n"
     ]
    }
   ],
   "source": [
    "def rot13(word):\n",
    "    output_word = []\n",
    "    for i in word:\n",
    "        neword = ord(i) + 13  #\n",
    "        if neword > ord('z'):\n",
    "            neword = neword - 26\n",
    "        \n",
    "        output_word.append(chr(neword))\n",
    "    return \"\".join(output_word)\n",
    "\n",
    "\n",
    "print(rot13('nccyr'))"
   ]
  },
  {
   "cell_type": "code",
   "execution_count": null,
   "metadata": {},
   "outputs": [],
   "source": []
  }
 ],
 "metadata": {
  "kernelspec": {
   "display_name": "Python 3",
   "language": "python",
   "name": "python3"
  },
  "language_info": {
   "codemirror_mode": {
    "name": "ipython",
    "version": 3
   },
   "file_extension": ".py",
   "mimetype": "text/x-python",
   "name": "python",
   "nbconvert_exporter": "python",
   "pygments_lexer": "ipython3",
   "version": "3.8.5"
  }
 },
 "nbformat": 4,
 "nbformat_minor": 4
}
