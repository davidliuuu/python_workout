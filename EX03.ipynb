{
 "cells": [
  {
   "cell_type": "markdown",
   "metadata": {
    "colab_type": "text",
    "id": "view-in-github"
   },
   "source": [
    "<a href=\"https://colab.research.google.com/github/davidliuuu/python_workout/blob/main/EX03.ipynb\" target=\"_parent\"><img src=\"https://colab.research.google.com/assets/colab-badge.svg\" alt=\"Open In Colab\"/></a>"
   ]
  },
  {
   "cell_type": "markdown",
   "metadata": {
    "id": "KmYImq2vF07j"
   },
   "source": [
    "**計算平均練跑時間**\n",
    "\n",
    "1.計算數值資料的平均。\n",
    "\n",
    "2.使用者逐次提供資料，直到使用者自行選擇停止為止。\n",
    "\n",
    "3.將使用者可能輸入錯誤資料的情況納入考量。\n",
    "\n",
    "4.假設每天跑10公里所花的時間。\n"
   ]
  },
  {
   "cell_type": "code",
   "execution_count": 7,
   "metadata": {
    "id": "1D3hK0qDGTyi"
   },
   "outputs": [],
   "source": [
    "def run_timing():\n",
    "  counter = 0\n",
    "  speedsum = 0\n",
    "  while True:\n",
    "    timenum = (input('輸入跑10公里的時間:'))\n",
    "    if timenum.isdigit():\n",
    "      speed = float(timenum)\n",
    "      speedsum = speedsum + speed\n",
    "      counter = counter + 1\n",
    "    else:\n",
    "      if counter == 0:\n",
    "        print(\"請輸入正確資料\")\n",
    "      else:\n",
    "        if timenum==\"\":\n",
    "          break;\n",
    "        else:\n",
    "          print(\"請輸入正確資料\")\n",
    "\n",
    "  speedavg = speedsum / counter \n",
    "   \n",
    "  print(speedavg)\n"
   ]
  },
  {
   "cell_type": "code",
   "execution_count": 3,
   "metadata": {
    "colab": {
     "base_uri": "https://localhost:8080/"
    },
    "id": "58hVn7OiFyNU",
    "outputId": "724df35d-94b9-4f24-bdad-4e645160f3d5"
   },
   "outputs": [
    {
     "name": "stdout",
     "output_type": "stream",
     "text": [
      "輸入跑10公里的時間:10\n",
      "輸入跑10公里的時間:30\n",
      "輸入跑10公里的時間:\n",
      "20.0\n"
     ]
    }
   ],
   "source": [
    "run_timing()"
   ]
  },
  {
   "cell_type": "markdown",
   "metadata": {},
   "source": [
    "**利用try...except**\n",
    "\n",
    "try: \n",
    "  try...except 之間的程式碼若產生錯誤，就執行except的程式碼\n",
    "except:"
   ]
  },
  {
   "cell_type": "code",
   "execution_count": 6,
   "metadata": {
    "id": "og7sME0jiFnV"
   },
   "outputs": [
    {
     "name": "stdout",
     "output_type": "stream",
     "text": [
      "輸入數值:2e\n",
      "產生錯誤: could not convert string to float: '2e'\n"
     ]
    }
   ],
   "source": [
    "input_str = input(\"輸入數值:\")\n",
    "\n",
    "try:\n",
    "    num = float(input_str)\n",
    "except Exception as e:\n",
    "    print('產生錯誤:',e)"
   ]
  },
  {
   "cell_type": "code",
   "execution_count": 11,
   "metadata": {},
   "outputs": [
    {
     "name": "stdout",
     "output_type": "stream",
     "text": [
      "輸入跑10公里的時間:5a\n",
      "產生錯誤: could not convert string to float: '5a'\n",
      "輸入跑10公里的時間:e156\n",
      "產生錯誤: could not convert string to float: 'e156'\n",
      "輸入跑10公里的時間:10\n",
      "輸入跑10公里的時間:20\n",
      "輸入跑10公里的時間:50\n",
      "輸入跑10公里的時間:\n",
      "跑了 3 次的平均時間為: 26.666666666666668 分鐘\n"
     ]
    }
   ],
   "source": [
    "def run_timing():\n",
    "  counter = 0\n",
    "  speedsum = 0\n",
    "  while True:\n",
    "    timenum = (input('輸入跑10公里的時間:'))\n",
    "    if timenum =='':\n",
    "        break;\n",
    "    try:\n",
    "        speed = float(timenum)\n",
    "        speedsum = speedsum + speed\n",
    "        counter = counter + 1\n",
    "    except Exception as e:\n",
    "        print('產生錯誤:',e)\n",
    "    \n",
    "  if counter > 0:\n",
    "    speedavg = speedsum / counter \n",
    "  else:\n",
    "    speedavg = 0\n",
    "  print(\"跑了\",counter,\"次的平均時間為:\",speedavg,\"分鐘\")\n",
    " \n",
    "    \n",
    "run_timing()\n",
    "\n"
   ]
  },
  {
   "cell_type": "code",
   "execution_count": null,
   "metadata": {},
   "outputs": [],
   "source": []
  }
 ],
 "metadata": {
  "colab": {
   "authorship_tag": "ABX9TyMEYXLKNAv3WIgrbvEk5h8M",
   "collapsed_sections": [],
   "include_colab_link": true,
   "name": "EX03.ipynb",
   "provenance": []
  },
  "kernelspec": {
   "display_name": "Python 3",
   "language": "python",
   "name": "python3"
  },
  "language_info": {
   "codemirror_mode": {
    "name": "ipython",
    "version": 3
   },
   "file_extension": ".py",
   "mimetype": "text/x-python",
   "name": "python",
   "nbconvert_exporter": "python",
   "pygments_lexer": "ipython3",
   "version": "3.8.5"
  }
 },
 "nbformat": 4,
 "nbformat_minor": 1
}
