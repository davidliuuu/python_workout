{
 "cells": [
  {
   "cell_type": "markdown",
   "metadata": {},
   "source": [
    "**讀出檔案最後一行字**\n",
    "\n",
    "1.寫一個函式 **read_final_line()**,傳入文字檔的路徑與檔名,然後傳回該檔案中的最後一行文字。\n",
    "\n",
    "*文字檔 login.log\n",
    "\n",
    "192.168.111.13 - frank [10/Oct/2000:13:55:36] \"GET /login HTTP/1.1\" 200 3217\n",
    "\n",
    "192.168.100.165 - alan [10/Oct/2000:22:01:17] \"GET /user HTTP/1.1\" 200 5480\n",
    "\n",
    "192.168.113.214 - bob [11/Oct/2000:07:45:22] \"GET /main HTTP/1.1\" 301 1078\n",
    "\n",
    "192.168.131.21 - lindy [11/Oct/2000:10:23:09] \"GET /settings HTTP/1.1\" 200 5466\n",
    "\n",
    "192.168.192.89 - peter [11/Oct/2000:19:56:00] \"GET /data HTTP/1.1\" 200 4912\n",
    "\n",
    "192.168.111.13 - frank [12/Oct/2000:11:03:37] \"GET /login HTTP/1.1\" 200 3226\n",
    "\n",
    "192.168.114.117 - grace [12/Oct/2000:17:15:54] \"GET /main HTTP/1.1\" 200 5603\n",
    "\n",
    "\n",
    "output:\n",
    "\n",
    "192.168.114.117 - grace [12/Oct/2000:17:15:54] \"GET /main HTTP/1.1\" 200 5603"
   ]
  },
  {
   "cell_type": "code",
   "execution_count": 10,
   "metadata": {},
   "outputs": [
    {
     "name": "stdout",
     "output_type": "stream",
     "text": [
      "192.168.114.117 - grace [12/Oct/2000:17:15:54] \"GET /main HTTP/1.1\" 200 5603\n"
     ]
    }
   ],
   "source": [
    "#利用file.readlines()讀出每一行資料\n",
    "def read_final_line(info):\n",
    "    f = open(info,'r')\n",
    "    x = f.readlines()\n",
    "    print(x[-1])\n",
    "    f.close()\n",
    "read_final_line(\"login.log\")"
   ]
  },
  {
   "cell_type": "code",
   "execution_count": 18,
   "metadata": {},
   "outputs": [
    {
     "name": "stdout",
     "output_type": "stream",
     "text": [
      "192.168.114.117 - grace [12/Oct/2000:17:15:54] \"GET /main HTTP/1.1\" 200 5603\n"
     ]
    }
   ],
   "source": [
    "#利用file.readline()逐次讀出一行資料\n",
    "def read_final_line(info):\n",
    "    f = open(info,'r')\n",
    "    while True:\n",
    "        line = f.readline()\n",
    "        if line =='':\n",
    "            break\n",
    "        else:\n",
    "            lastline = line\n",
    "\n",
    "    print(lastline)\n",
    "    f.close()\n",
    "read_final_line(\"login.log\")"
   ]
  },
  {
   "cell_type": "code",
   "execution_count": 21,
   "metadata": {},
   "outputs": [
    {
     "name": "stdout",
     "output_type": "stream",
     "text": [
      "192.168.114.117 - grace [12/Oct/2000:17:15:54] \"GET /main HTTP/1.1\" 200 5603\n"
     ]
    }
   ],
   "source": [
    "#直接走訪檔案讀出每一行\n",
    "def read_final_line(info):\n",
    "    f = open(info,'r')\n",
    "    for line in f:\n",
    "        lastline = line\n",
    "\n",
    "    print(lastline)\n",
    "    f.close()\n",
    "read_final_line(\"login.log\")"
   ]
  },
  {
   "cell_type": "code",
   "execution_count": null,
   "metadata": {},
   "outputs": [],
   "source": []
  }
 ],
 "metadata": {
  "kernelspec": {
   "display_name": "Python 3",
   "language": "python",
   "name": "python3"
  },
  "language_info": {
   "codemirror_mode": {
    "name": "ipython",
    "version": 3
   },
   "file_extension": ".py",
   "mimetype": "text/x-python",
   "name": "python",
   "nbconvert_exporter": "python",
   "pygments_lexer": "ipython3",
   "version": "3.8.5"
  }
 },
 "nbformat": 4,
 "nbformat_minor": 4
}
