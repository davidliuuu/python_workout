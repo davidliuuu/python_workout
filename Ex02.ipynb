{
  "nbformat": 4,
  "nbformat_minor": 0,
  "metadata": {
    "colab": {
      "name": "Ex02.ipynb",
      "provenance": [],
      "collapsed_sections": [],
      "authorship_tag": "ABX9TyMYYxll48rdBitWujCksNob",
      "include_colab_link": true
    },
    "kernelspec": {
      "name": "python3",
      "display_name": "Python 3"
    },
    "language_info": {
      "name": "python"
    }
  },
  "cells": [
    {
      "cell_type": "markdown",
      "metadata": {
        "id": "view-in-github",
        "colab_type": "text"
      },
      "source": [
        "<a href=\"https://colab.research.google.com/github/davidliuuu/python_workout/blob/main/Ex02.ipynb\" target=\"_parent\"><img src=\"https://colab.research.google.com/assets/colab-badge.svg\" alt=\"Open In Colab\"/></a>"
      ]
    },
    {
      "cell_type": "markdown",
      "metadata": {
        "id": "pZMbKaRX_HhX"
      },
      "source": [
        "**加總一系列數字**\n",
        "\n",
        "如果你把list[1,2,3]傳入Python內建的sum()函式，就會得到其元素的總和(如1+2+3=6)。\n",
        "\n",
        "1.如何在不使用sum()的情況下做到一樣的效果。\n",
        "\n",
        "2.你的計算函式my_sum()不能直接接收一個list或其他容器當參數,而是能接收無限多的選擇性參數，給多少算多少。\n",
        "\n",
        "\n"
      ]
    },
    {
      "cell_type": "code",
      "metadata": {
        "colab": {
          "base_uri": "https://localhost:8080/"
        },
        "id": "YXLZqOps-7HW",
        "outputId": "7d3a60c4-39af-4641-ca2c-3968f3422a1c"
      },
      "source": [
        "def my_sum(*num):  #當參數名稱前有*時，將會把輸入函式的多個值打包成一個tuple\n",
        "  output = 0\n",
        "  for i in num:\n",
        "    output = output + i\n",
        "  return output\n",
        "\n",
        "print(my_sum(10,20,30,40,50))\n",
        "\n",
        "print(my_sum(10,20))\n",
        "\n",
        "print(my_sum(10,20,30))\n",
        "\n"
      ],
      "execution_count": null,
      "outputs": [
        {
          "output_type": "stream",
          "text": [
            "150\n",
            "30\n",
            "60\n"
          ],
          "name": "stdout"
        }
      ]
    }
  ]
}