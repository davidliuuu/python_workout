{
 "cells": [
  {
   "cell_type": "markdown",
   "metadata": {},
   "source": [
    "**尋找單字中重複最多次的字母**\n",
    "\n",
    "1.寫一個函式**most_repeated_letter()**,傳入一個單字，傳回該字中重複最多次的字母與次數。\n",
    "\n",
    "**input**\n",
    "```\n",
    "print(most_repeated_letter('independence'))\n",
    "\n",
    "```\n",
    "\n",
    "**output**\n",
    "\n",
    "```\n",
    "e 重複了4次\n",
    "\n",
    "```"
   ]
  },
  {
   "cell_type": "code",
   "execution_count": 13,
   "metadata": {},
   "outputs": [
    {
     "name": "stdout",
     "output_type": "stream",
     "text": [
      "e重複了 4 次\n"
     ]
    }
   ],
   "source": [
    "import operator \n",
    "\n",
    "def most_repeated_letter(word):\n",
    "    word_set = list(set(word))  #利用set() 集合找出單字內所有的字母\n",
    "    letter_count = []\n",
    "    for i in word_set :\n",
    "        letter_count.append((i,word.count(i)))\n",
    "    \n",
    "    result = sorted(letter_count,key = operator.itemgetter(1) , reverse = False )[-1]\n",
    "    \n",
    "    \n",
    "    return f'{result[0]}重複了 {result[1]} 次'\n",
    "\n",
    "\n",
    "    \n",
    "    \n",
    "\n",
    "print(most_repeated_letter('independence'))"
   ]
  },
  {
   "cell_type": "code",
   "execution_count": 20,
   "metadata": {},
   "outputs": [
    {
     "name": "stdout",
     "output_type": "stream",
     "text": [
      "Counter({'e': 4, 'n': 3, 'd': 2, 'i': 1, 'p': 1, 'c': 1})\n",
      "[('e', 4), ('n', 3), ('d', 2), ('i', 1), ('p', 1), ('c', 1)]\n",
      "[('e', 4)]\n"
     ]
    }
   ],
   "source": [
    "#利用Counter\n",
    "\n",
    "from collections import Counter\n",
    "\n",
    "s = 'independence'\n",
    "\n",
    "letter_count = Counter(s)\n",
    "\n",
    "print(letter_count)\n",
    "\n",
    "print(letter_count.most_common())\n",
    "\n",
    "print(letter_count.most_common(1))"
   ]
  },
  {
   "cell_type": "code",
   "execution_count": 19,
   "metadata": {},
   "outputs": [
    {
     "name": "stdout",
     "output_type": "stream",
     "text": [
      "e重複了 4 次\n"
     ]
    }
   ],
   "source": [
    "#利用Counter() and Counter().most_common() 來改寫\n",
    "\n",
    "\n",
    "import operator \n",
    "from collections import Counter\n",
    "\n",
    "def most_repeated_letter(word):\n",
    "    result = Counter(word).most_common(1)[0]\n",
    "    return f'{result[0]}重複了 {result[1]} 次'\n",
    "\n",
    "\n",
    "    \n",
    "    \n",
    "\n",
    "print(most_repeated_letter('independence'))"
   ]
  },
  {
   "cell_type": "code",
   "execution_count": null,
   "metadata": {},
   "outputs": [],
   "source": []
  }
 ],
 "metadata": {
  "kernelspec": {
   "display_name": "Python 3",
   "language": "python",
   "name": "python3"
  },
  "language_info": {
   "codemirror_mode": {
    "name": "ipython",
    "version": 3
   },
   "file_extension": ".py",
   "mimetype": "text/x-python",
   "name": "python",
   "nbconvert_exporter": "python",
   "pygments_lexer": "ipython3",
   "version": "3.8.5"
  }
 },
 "nbformat": 4,
 "nbformat_minor": 4
}
