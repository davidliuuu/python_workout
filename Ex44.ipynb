{
 "cells": [
  {
   "cell_type": "markdown",
   "metadata": {},
   "source": [
    "**動物展示區類別**\n",
    "\n",
    "1.由於動物園預算有限,只得把部分動物擺在同一個展示區中。\n",
    "\n",
    "2.請撰寫**Exhibit**類別,建立物件來代表不同展示區,放入數個動物物件後印出其資訊。\n"
   ]
  },
  {
   "cell_type": "code",
   "execution_count": 5,
   "metadata": {},
   "outputs": [
    {
     "name": "stdout",
     "output_type": "stream",
     "text": [
      "展示區編號1:Elephant(color = '灰',leg_num=4), Zebra(color = '黑白',leg_num=4)\n",
      "展示區編號2:Snake(color = '綠',leg_num=0), Parrot(color = '灰',leg_num=2)\n"
     ]
    }
   ],
   "source": [
    "class Animal:\n",
    "    def __init__(self,color,leg_num):\n",
    "        self.species =  self.__class__.__name__  #透過 __class__.__name__取得類別名稱\n",
    "        self.color = color \n",
    "        self.leg_num = leg_num \n",
    "        \n",
    "    def __repr__(self):\n",
    "        return f'{self.species}(color = {self.color!r},leg_num={self.leg_num})' #!r代表對這些值呼叫repr(),這樣若值是字串,印出時就會加上單引號\n",
    "\n",
    "    \n",
    "class Zebra(Animal):\n",
    "    def __init__(self,color):\n",
    "        super().__init__(color,4)  #super() 取得父類別\n",
    "\n",
    "        \n",
    "class Elephant(Animal):\n",
    "    def __init__(self,color):\n",
    "        super().__init__(color,4)  #super() 取得父類別\n",
    "        \n",
    "class Snake(Animal):\n",
    "    def __init__(self,color):\n",
    "        super().__init__(color,0)  #super() 取得父類別\n",
    "        \n",
    "class Parrot(Animal):\n",
    "    def __init__(self,color):\n",
    "        super().__init__(color,2)  #super() 取得父類別\n",
    "        \n",
    "class Exhibit():\n",
    "    \n",
    "    def __init__(self, id_num):\n",
    "        self.id_num = id_num\n",
    "        self.animals = []\n",
    "        \n",
    "    def add_animals(self, *new_animals):\n",
    "        for animal in new_animals:\n",
    "            self.animals.append(animal)\n",
    "            \n",
    "    def __repr__(self):\n",
    "        return f'展示區編號{self.id_num}:' + f'{\", \".join([str(animal) for animal in self.animals])}'\n",
    "    \n",
    "    \n",
    "ex1 = Exhibit(1)\n",
    "ex2 = Exhibit(2)\n",
    "\n",
    "ex1.add_animals(Elephant('灰'),Zebra('黑白'))\n",
    "ex2.add_animals(Snake('綠'),Parrot('灰'))\n",
    "\n",
    "print(ex1)\n",
    "print(ex2)"
   ]
  },
  {
   "cell_type": "code",
   "execution_count": null,
   "metadata": {},
   "outputs": [],
   "source": []
  }
 ],
 "metadata": {
  "kernelspec": {
   "display_name": "Python 3",
   "language": "python",
   "name": "python3"
  },
  "language_info": {
   "codemirror_mode": {
    "name": "ipython",
    "version": 3
   },
   "file_extension": ".py",
   "mimetype": "text/x-python",
   "name": "python",
   "nbconvert_exporter": "python",
   "pygments_lexer": "ipython3",
   "version": "3.8.5"
  }
 },
 "nbformat": 4,
 "nbformat_minor": 4
}
