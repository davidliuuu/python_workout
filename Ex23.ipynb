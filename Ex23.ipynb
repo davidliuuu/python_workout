{
 "cells": [
  {
   "cell_type": "markdown",
   "metadata": {},
   "source": [
    "**讀取JSON檔**\n",
    "\n",
    "1.寫一個函式**print_scores()**,會讀取JSON格式的成績檔，統計各科的最高分、最低分和平均並印出。\n"
   ]
  },
  {
   "cell_type": "code",
   "execution_count": 1,
   "metadata": {},
   "outputs": [
    {
     "name": "stdout",
     "output_type": "stream",
     "text": [
      "{'math': 90, 'literature': 98, 'science': 97}\n",
      "<class 'dict'>\n"
     ]
    }
   ],
   "source": [
    "import json\n",
    "\n",
    "json_str ='{\"math\" : 90 ,\"literature\" : 98 ,\"science\" : 97}' #json 格式字串\n",
    "\n",
    "json_obj = json.loads(json_str) #取得Json物件\n",
    "\n",
    "print(json_obj)\n",
    "\n",
    "print(type(json_obj))\n",
    "\n"
   ]
  },
  {
   "cell_type": "code",
   "execution_count": 2,
   "metadata": {},
   "outputs": [
    {
     "name": "stdout",
     "output_type": "stream",
     "text": [
      "{'class': '9a', 'score': [{'math': 90, 'literature': 98, 'science': 97}, {'math': 65, 'literature': 79, 'science': 85}, {'math': 78, 'literature': 83, 'science': 75}, {'math': 92, 'literature': 78, 'science': 85}, {'math': 100, 'literature': 80, 'science': 90}]}\n"
     ]
    }
   ],
   "source": [
    "import json\n",
    "\n",
    "with open('score.json','r') as json_file:\n",
    "    print(json.load(json_file)) #讀取json檔案 用 load()"
   ]
  },
  {
   "cell_type": "code",
   "execution_count": 9,
   "metadata": {},
   "outputs": [
    {
     "name": "stdout",
     "output_type": "stream",
     "text": [
      "班級: 9a\n",
      "科目: math\n",
      "\t最高分: 100\n",
      "\t最低分: 65\n",
      "\t平均: 85.0\n",
      "科目: literature\n",
      "\t最高分: 98\n",
      "\t最低分: 78\n",
      "\t平均: 83.6\n",
      "科目: science\n",
      "\t最高分: 97\n",
      "\t最低分: 75\n",
      "\t平均: 86.4\n"
     ]
    }
   ],
   "source": [
    "import json\n",
    "from collections import defaultdict\n",
    "\n",
    "def print_score(filename):\n",
    "    with open(filename , 'r') as json_file:\n",
    "        record = json.load(json_file) #將json檔案解析為dict物件\n",
    "        result = defaultdict(list) #用來記錄同科分數的defaultdict,值預設為空list\n",
    "        \n",
    "        print('班級:',record['class'])\n",
    "        \n",
    "        for record in record['score']:\n",
    "            for subject, score in record.items():\n",
    "                result[subject].append(score)\n",
    "        \n",
    "        for subject,scores in result.items():\n",
    "            print('科目:',subject)\n",
    "            print('\\t最高分:',max(scores))\n",
    "            print('\\t最低分:',min(scores))\n",
    "            print('\\t平均:',sum(scores) / len(scores))\n",
    "\n",
    "\n",
    "print_score('score.json')"
   ]
  },
  {
   "cell_type": "code",
   "execution_count": null,
   "metadata": {},
   "outputs": [],
   "source": []
  }
 ],
 "metadata": {
  "kernelspec": {
   "display_name": "Python 3",
   "language": "python",
   "name": "python3"
  },
  "language_info": {
   "codemirror_mode": {
    "name": "ipython",
    "version": 3
   },
   "file_extension": ".py",
   "mimetype": "text/x-python",
   "name": "python",
   "nbconvert_exporter": "python",
   "pygments_lexer": "ipython3",
   "version": "3.8.5"
  }
 },
 "nbformat": 4,
 "nbformat_minor": 4
}
