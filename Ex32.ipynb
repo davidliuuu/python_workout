{
 "cells": [
  {
   "cell_type": "markdown",
   "metadata": {},
   "source": [
    "**顛倒一個dict的鍵與值**\n",
    "\n",
    "1.寫一個函式**flipped_dict()**,傳入一個dict,用生成式顛倒其鍵與元素後傳回。\n"
   ]
  },
  {
   "cell_type": "code",
   "execution_count": 4,
   "metadata": {},
   "outputs": [
    {
     "name": "stdout",
     "output_type": "stream",
     "text": [
      "{1: 'a', 2: 'b', 3: 'c'}\n"
     ]
    }
   ],
   "source": [
    "def flipped_dict(input_dict):\n",
    "    return {value: key for key , value in input_dict.items()}\n",
    "\n",
    "print(flipped_dict({'a':1,'b':2,'c':3}))"
   ]
  },
  {
   "cell_type": "code",
   "execution_count": null,
   "metadata": {},
   "outputs": [],
   "source": []
  }
 ],
 "metadata": {
  "kernelspec": {
   "display_name": "Python 3",
   "language": "python",
   "name": "python3"
  },
  "language_info": {
   "codemirror_mode": {
    "name": "ipython",
    "version": 3
   },
   "file_extension": ".py",
   "mimetype": "text/x-python",
   "name": "python",
   "nbconvert_exporter": "python",
   "pygments_lexer": "ipython3",
   "version": "3.8.5"
  }
 },
 "nbformat": 4,
 "nbformat_minor": 4
}
