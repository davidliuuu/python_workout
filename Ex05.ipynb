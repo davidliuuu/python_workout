{
 "cells": [
  {
   "cell_type": "markdown",
   "metadata": {},
   "source": [
    "**豬拉丁文(Pig Latin)**\n",
    "\n",
    "1.如果一個英文單字的字首是母音(a,e,i,o,u)，在單字結尾加上 **way** 。\n",
    "\n",
    "Ex: air --> air**way**\n",
    "    eat --> eat**way**\n",
    "    \n",
    "2.如果該單字的字首不是母音，就把自首挪到結尾並加上**ay**。\n",
    "\n",
    "Ex:  python --> ython**pay**\n",
    "     computer --> omputer**cay**\n",
    "\n",
    "3.寫一個pig_latin()函式，接收一個字串參數(一個英文單字)，將之轉換成豬拉丁文後傳回。\n",
    "\n"
   ]
  },
  {
   "cell_type": "code",
   "execution_count": 5,
   "metadata": {
    "scrolled": true
   },
   "outputs": [
    {
     "name": "stdout",
     "output_type": "stream",
     "text": [
      "請輸入一個英文單字:computer\n",
      "omputercay\n"
     ]
    }
   ],
   "source": [
    "def pig_latin():\n",
    "    Enword = input(\"請輸入一個英文單字:\")\n",
    "    \n",
    "    for i in 'aeiou':\n",
    "        if i == Enword[0]:\n",
    "            outvalue = Enword + 'way'\n",
    "            break;\n",
    "        else:\n",
    "            outvalue = Enword[1:]+Enword[0]+'ay'\n",
    "    print(outvalue)\n",
    "    \n",
    "pig_latin()\n",
    "    "
   ]
  }
 ],
 "metadata": {
  "kernelspec": {
   "display_name": "Python 3",
   "language": "python",
   "name": "python3"
  },
  "language_info": {
   "codemirror_mode": {
    "name": "ipython",
    "version": 3
   },
   "file_extension": ".py",
   "mimetype": "text/x-python",
   "name": "python",
   "nbconvert_exporter": "python",
   "pygments_lexer": "ipython3",
   "version": "3.8.5"
  }
 },
 "nbformat": 4,
 "nbformat_minor": 4
}
