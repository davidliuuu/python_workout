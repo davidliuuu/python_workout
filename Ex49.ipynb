{
 "cells": [
  {
   "cell_type": "markdown",
   "metadata": {},
   "source": [
    "**產生器運算式**\n",
    "\n",
    "1.寫一個函式**num_generator()**,輸入一個數字,並用產生器運算式傳回一個產生器。\n",
    "\n",
    "2.這產生器會將該數字的每個位數(不含小數點)逐次傳回"
   ]
  },
  {
   "cell_type": "code",
   "execution_count": 1,
   "metadata": {},
   "outputs": [
    {
     "name": "stdout",
     "output_type": "stream",
     "text": [
      "3\n",
      "1\n",
      "4\n",
      "1\n",
      "5\n",
      "9\n"
     ]
    }
   ],
   "source": [
    "def num_generator(num):\n",
    "    \n",
    "    return (int(digit) for digit in str(num) if digit.isnumeric()) #digit.isnumeric() 判斷str是否由數字組成\n",
    "    \n",
    "numbers = num_generator(3.14159)\n",
    "\n",
    "for num in numbers:\n",
    "    print(num)"
   ]
  },
  {
   "cell_type": "code",
   "execution_count": null,
   "metadata": {},
   "outputs": [],
   "source": []
  }
 ],
 "metadata": {
  "kernelspec": {
   "display_name": "Python 3",
   "language": "python",
   "name": "python3"
  },
  "language_info": {
   "codemirror_mode": {
    "name": "ipython",
    "version": 3
   },
   "file_extension": ".py",
   "mimetype": "text/x-python",
   "name": "python",
   "nbconvert_exporter": "python",
   "pygments_lexer": "ipython3",
   "version": "3.8.5"
  }
 },
 "nbformat": 4,
 "nbformat_minor": 4
}
