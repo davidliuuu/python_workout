{
 "cells": [
  {
   "cell_type": "markdown",
   "metadata": {},
   "source": [
    "**批次檔案讀取**\n",
    "\n",
    "1.寫一個函式**print_dir_scores()**,傳入一個資料夾路徑,它會尋找該資料夾中的所有.json檔，並呼叫練習23的print_socres()來統計各班的各科成績。\n"
   ]
  },
  {
   "cell_type": "code",
   "execution_count": 3,
   "metadata": {},
   "outputs": [
    {
     "name": "stdout",
     "output_type": "stream",
     "text": [
      "['.git', '.ipynb_checkpoints', 'Ex01.ipynb', 'Ex02.ipynb', 'EX03.ipynb', 'Ex04.ipynb', 'Ex05.ipynb', 'Ex06.ipynb', 'Ex07.ipynb', 'Ex08.ipynb', 'Ex09.ipynb', 'Ex10.ipynb', 'Ex11.ipynb', 'Ex12.ipynb', 'Ex13.ipynb', 'Ex14.ipynb', 'Ex15.ipynb', 'Ex16.ipynb', 'Ex17.ipynb', 'Ex18.ipynb', 'Ex19.ipynb', 'Ex20.ipynb', 'Ex21.ipynb', 'Ex22.ipynb', 'Ex23.ipynb', 'Ex24.ipynb', 'login.log', 'passwd.cfg', 'passwd.csv', 'README.md', 'score.json', 'text.txt', 'text2.txt']\n"
     ]
    }
   ],
   "source": [
    "import os\n",
    "\n",
    "print(os.listdir(r'C:\\Users\\user\\gitrepository\\python_workout-main')) #列出該資料夾所有檔案"
   ]
  },
  {
   "cell_type": "code",
   "execution_count": 4,
   "metadata": {},
   "outputs": [
    {
     "name": "stdout",
     "output_type": "stream",
     "text": [
      "score.json\n"
     ]
    }
   ],
   "source": [
    "for filename in os.listdir(r'C:\\Users\\user\\gitrepository\\python_workout-main'):\n",
    "    if filename.endswith('.json'): #判斷字串是否以指定字串結尾\n",
    "        print(filename)"
   ]
  },
  {
   "cell_type": "code",
   "execution_count": 8,
   "metadata": {},
   "outputs": [
    {
     "name": "stdout",
     "output_type": "stream",
     "text": [
      "讀取檔案 score.json\n",
      "班級: 9a\n",
      "科目: math\n",
      "\t最高分: 100\n",
      "\t最低分: 65\n",
      "\t平均: 85.0\n",
      "科目: literature\n",
      "\t最高分: 98\n",
      "\t最低分: 78\n",
      "\t平均: 83.6\n",
      "科目: science\n",
      "\t最高分: 97\n",
      "\t最低分: 75\n",
      "\t平均: 86.4\n"
     ]
    }
   ],
   "source": [
    "import json\n",
    "from collections import defaultdict\n",
    "\n",
    "def print_score(filename):\n",
    "    with open(filename , 'r') as json_file:\n",
    "        record = json.load(json_file) #將json檔案解析為dict物件\n",
    "        result = defaultdict(list) #用來記錄同科分數的defaultdict,值預設為空list\n",
    "        \n",
    "        print('班級:',record['class'])\n",
    "        \n",
    "        for record in record['score']:\n",
    "            for subject, score in record.items():\n",
    "                result[subject].append(score)\n",
    "        \n",
    "        for subject,scores in result.items():\n",
    "            print('科目:',subject)\n",
    "            print('\\t最高分:',max(scores))\n",
    "            print('\\t最低分:',min(scores))\n",
    "            print('\\t平均:',sum(scores) / len(scores))\n",
    "\n",
    "            \n",
    "def print_dir_scores(dirname):\n",
    "    for filename in os.listdir(dirname):\n",
    "        if filename.endswith('.json'): #判斷字串是否以指定字串結尾\n",
    "            print('讀取檔案',filename)\n",
    "            print_score(filename)\n",
    "\n",
    "print_dir_scores(r'C:\\Users\\user\\gitrepository\\python_workout-main')"
   ]
  },
  {
   "cell_type": "code",
   "execution_count": null,
   "metadata": {},
   "outputs": [],
   "source": []
  }
 ],
 "metadata": {
  "kernelspec": {
   "display_name": "Python 3",
   "language": "python",
   "name": "python3"
  },
  "language_info": {
   "codemirror_mode": {
    "name": "ipython",
    "version": 3
   },
   "file_extension": ".py",
   "mimetype": "text/x-python",
   "name": "python",
   "nbconvert_exporter": "python",
   "pygments_lexer": "ipython3",
   "version": "3.8.5"
  }
 },
 "nbformat": 4,
 "nbformat_minor": 4
}
