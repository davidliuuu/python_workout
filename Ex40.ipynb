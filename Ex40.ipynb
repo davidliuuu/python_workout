{
 "cells": [
  {
   "cell_type": "markdown",
   "metadata": {},
   "source": [
    "**類別屬性:冰淇淋碗上限**\n",
    "\n",
    "1.在**Bowl**類別增加一個屬性max_scoops,並在**add_scoop()** method中檢查冰淇淋球的數量,滿三球後就不再增加\n",
    "\n"
   ]
  },
  {
   "cell_type": "code",
   "execution_count": null,
   "metadata": {},
   "outputs": [],
   "source": [
    "class Scoop :\n",
    "    def __init__(self,flavor):\n",
    "        self.flavor = flavor\n",
    "    \n",
    "    def __repr__(self):\n",
    "        return f'Scoop({self.flavor})'\n",
    "        \n",
    "class Bowl:\n",
    "    max_scoops = 3\n",
    "    \n",
    "    def __init__(self):\n",
    "        self.scoops = []\n",
    "        \n",
    "    def add_scoop(self,*new_scoops):\n",
    "        for new_scoop in new_scoops:\n",
    "            if len(self.scoops)<3:\n",
    "                self.scoops.append(new_scoop)\n",
    "    \n",
    "    def __repr__(self):\n",
    "        return f'Bowl(scoops={self.scoops})'\n",
    "\n",
    "bowl = Bowl()\n",
    "bowl.add_scoop(Scoop('巧克力'))\n",
    "bowl.add_scoop(Scoop('香草'),Scoop('薄荷'))\n",
    "bowl.add_scoop(Scoop('焦糖'),Scoop('抹茶'))\n",
    "print(bowl.show_content()) #利用函式印出\n",
    "print('--------')\n",
    "print(bowl) #利用__str__(self)直接印出bowl屬性"
   ]
  }
 ],
 "metadata": {
  "kernelspec": {
   "display_name": "Python 3",
   "language": "python",
   "name": "python3"
  },
  "language_info": {
   "codemirror_mode": {
    "name": "ipython",
    "version": 3
   },
   "file_extension": ".py",
   "mimetype": "text/x-python",
   "name": "python",
   "nbconvert_exporter": "python",
   "pygments_lexer": "ipython3",
   "version": "3.8.5"
  }
 },
 "nbformat": 4,
 "nbformat_minor": 4
}
