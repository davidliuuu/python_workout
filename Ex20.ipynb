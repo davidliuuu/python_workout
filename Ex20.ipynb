{
 "cells": [
  {
   "cell_type": "markdown",
   "metadata": {},
   "source": [
    "**統計檔案的字元數、字數與行數**\n",
    "\n",
    "1.寫一個函式**wordcount()**,此函式會印出該文字檔中的字元數、單字數及行數。\n",
    "\n",
    "2.在此假設內文只用英文和數字寫成。"
   ]
  },
  {
   "cell_type": "code",
   "execution_count": 12,
   "metadata": {},
   "outputs": [
    {
     "name": "stdout",
     "output_type": "stream",
     "text": [
      "Characters:164\n",
      "Words:28\n",
      "Unique words:20\n",
      "Lines:11\n"
     ]
    }
   ],
   "source": [
    "def wordcount():\n",
    "    Uniwords = set()\n",
    "    f = open('text.txt','r')\n",
    "    result = {'Characters' : 0 ,'Words' : 0 , 'Unique words' : 0 , 'Lines' : 0}\n",
    "    for line in f:\n",
    "        words = line.split()\n",
    "        result['Lines'] += 1\n",
    "        result['Words'] += len(words)\n",
    "        result['Characters'] += len(line)\n",
    "        Uniwords.update(words)\n",
    "    \n",
    "    result['Unique words'] = len(Uniwords)\n",
    "    for key,value in result.items():\n",
    "        print('{}:{}'.format(key,value))\n",
    "    \n",
    "    f.close()\n",
    "    \n",
    "wordcount()"
   ]
  },
  {
   "cell_type": "code",
   "execution_count": null,
   "metadata": {},
   "outputs": [],
   "source": []
  }
 ],
 "metadata": {
  "kernelspec": {
   "display_name": "Python 3",
   "language": "python",
   "name": "python3"
  },
  "language_info": {
   "codemirror_mode": {
    "name": "ipython",
    "version": 3
   },
   "file_extension": ".py",
   "mimetype": "text/x-python",
   "name": "python",
   "nbconvert_exporter": "python",
   "pygments_lexer": "ipython3",
   "version": "3.8.5"
  }
 },
 "nbformat": 4,
 "nbformat_minor": 4
}
