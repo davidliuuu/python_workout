{
 "cells": [
  {
   "cell_type": "markdown",
   "metadata": {},
   "source": [
    "**擷取和合併多種容器的頭尾元素**\n",
    "\n",
    "1.寫一個函式**first_last()**,輸入一個序列物件當參數，會從中擷取出最前面和最後面的元素，並以跟參數物件相同的型別傳回。\n",
    "\n",
    "**Input**\n",
    "\n",
    "print(first_last('abcde'))\n",
    "\n",
    "print(first_last([1,2,3,4,5]))\n",
    "\n",
    "**Output**\n",
    "\n",
    "'ae'\n",
    "\n",
    "[1,5]\n"
   ]
  },
  {
   "cell_type": "code",
   "execution_count": 5,
   "metadata": {},
   "outputs": [
    {
     "name": "stdout",
     "output_type": "stream",
     "text": [
      "ae\n",
      "[1, 5]\n"
     ]
    }
   ],
   "source": [
    "def first_last(x):\n",
    "    \n",
    "    firstvalue=x[:1]  #利用切片\n",
    "    endvalue=x[-1:]\n",
    "    outputvalue=firstvalue+endvalue\n",
    "    \n",
    "    return outputvalue\n",
    "    \n",
    "    \n",
    "    \n",
    "    \n",
    "print(first_last('abcde'))\n",
    "print(first_last([1,2,3,4,5]))   "
   ]
  },
  {
   "cell_type": "code",
   "execution_count": null,
   "metadata": {},
   "outputs": [],
   "source": []
  }
 ],
 "metadata": {
  "kernelspec": {
   "display_name": "Python 3",
   "language": "python",
   "name": "python3"
  },
  "language_info": {
   "codemirror_mode": {
    "name": "ipython",
    "version": 3
   },
   "file_extension": ".py",
   "mimetype": "text/x-python",
   "name": "python",
   "nbconvert_exporter": "python",
   "pygments_lexer": "ipython3",
   "version": "3.8.5"
  }
 },
 "nbformat": 4,
 "nbformat_minor": 4
}
