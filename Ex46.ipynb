{
 "cells": [
  {
   "cell_type": "markdown",
   "metadata": {},
   "source": [
    "**自訂enumerate容器**\n",
    "\n",
    "1.撰寫一個**MyEnumerate**類別,使其物件的走訪效果與**enunmerate()**相同。\n",
    "\n",
    "2.目前假設**MyEnumerate**物件只接收list,tuble或字串為資料。"
   ]
  },
  {
   "cell_type": "code",
   "execution_count": 6,
   "metadata": {},
   "outputs": [
    {
     "name": "stdout",
     "output_type": "stream",
     "text": [
      "1\n",
      "2\n",
      "3\n",
      "4\n",
      "5\n"
     ]
    }
   ],
   "source": [
    "n = [1,2,3,4,5]\n",
    "\n",
    "iterator = n.__iter__()\n",
    "\n",
    "\n",
    "print(iterator.__next__())\n",
    "print(iterator.__next__())\n",
    "print(iterator.__next__())\n",
    "print(iterator.__next__())\n",
    "print(iterator.__next__())"
   ]
  },
  {
   "cell_type": "code",
   "execution_count": 8,
   "metadata": {},
   "outputs": [
    {
     "name": "stdout",
     "output_type": "stream",
     "text": [
      "1\n",
      "2\n",
      "3\n",
      "4\n",
      "5\n"
     ]
    }
   ],
   "source": [
    "n = [1,2,3,4,5]\n",
    "\n",
    "iterator = iter(n)\n",
    "\n",
    "\n",
    "print(next(iterator))\n",
    "print(next(iterator))\n",
    "print(next(iterator))\n",
    "print(next(iterator))\n",
    "print(next(iterator))"
   ]
  },
  {
   "cell_type": "code",
   "execution_count": 9,
   "metadata": {},
   "outputs": [
    {
     "name": "stdout",
     "output_type": "stream",
     "text": [
      "0 --> a\n",
      "1 --> b\n",
      "2 --> c\n",
      "3 --> d\n",
      "4 --> e\n"
     ]
    }
   ],
   "source": [
    "class MyEnumerate:\n",
    "    def __init__(self,data):\n",
    "        self.data = data \n",
    "        self.index = 0\n",
    "        \n",
    "    def __iter__(self):\n",
    "        return self \n",
    "    \n",
    "    def __next__(self):\n",
    "        if self.index >= len(self.data):\n",
    "            raise StopIteration  #如果超過參數長度則回傳例外\n",
    "        \n",
    "        value = (self.index , self.data[self.index])\n",
    "        self.index +=1\n",
    "        return value\n",
    "myEnum = MyEnumerate('abcde')\n",
    "for index , letter in myEnum:\n",
    "    print(f'{index} --> {letter}')"
   ]
  },
  {
   "cell_type": "code",
   "execution_count": null,
   "metadata": {},
   "outputs": [],
   "source": []
  }
 ],
 "metadata": {
  "kernelspec": {
   "display_name": "Python 3",
   "language": "python",
   "name": "python3"
  },
  "language_info": {
   "codemirror_mode": {
    "name": "ipython",
    "version": 3
   },
   "file_extension": ".py",
   "mimetype": "text/x-python",
   "name": "python",
   "nbconvert_exporter": "python",
   "pygments_lexer": "ipython3",
   "version": "3.8.5"
  }
 },
 "nbformat": 4,
 "nbformat_minor": 4
}
