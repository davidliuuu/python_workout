{
 "cells": [
  {
   "cell_type": "markdown",
   "metadata": {},
   "source": [
    "**豬拉丁文 ---句子翻譯機 **\n",
    "\n",
    "1.寫一個函式**pl_sentence()**，輸入一個英文句子(假設使用者只輸入小寫字)，將裡面所有詞轉換成豬拉丁文並傳回新句子\n"
   ]
  },
  {
   "cell_type": "code",
   "execution_count": 9,
   "metadata": {},
   "outputs": [
    {
     "name": "stdout",
     "output_type": "stream",
     "text": [
      "histay isway away esttay\n"
     ]
    }
   ],
   "source": [
    "def pl_sentence(word):\n",
    "    wordlist = word.split(\" \")\n",
    "    outwordlist = []\n",
    "    for i in wordlist:\n",
    "        if i[0] in 'aeiou':\n",
    "            outwordlist.append(i+'way')\n",
    "        else:\n",
    "            outwordlist.append(i[1:]+i[0]+'ay')\n",
    "                        \n",
    "            \n",
    "    return \" \".join(outwordlist)  #str.join() 將list 用 str 連接成新的字串\n",
    "    \n",
    "    \n",
    "    \n",
    "print(pl_sentence('this is a test'))"
   ]
  },
  {
   "cell_type": "code",
   "execution_count": null,
   "metadata": {},
   "outputs": [],
   "source": []
  }
 ],
 "metadata": {
  "kernelspec": {
   "display_name": "Python 3",
   "language": "python",
   "name": "python3"
  },
  "language_info": {
   "codemirror_mode": {
    "name": "ipython",
    "version": 3
   },
   "file_extension": ".py",
   "mimetype": "text/x-python",
   "name": "python",
   "nbconvert_exporter": "python",
   "pygments_lexer": "ipython3",
   "version": "3.8.5"
  }
 },
 "nbformat": 4,
 "nbformat_minor": 4
}
