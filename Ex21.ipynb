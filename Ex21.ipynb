{
 "cells": [
  {
   "cell_type": "markdown",
   "metadata": {},
   "source": [
    "**找出檔案內的最長單字**\n",
    "\n",
    "1.寫一個函式**find_longest_word()**,傳入一個檔名，它會傳回該文字檔中最長的單字。(請注意:句點不能算單字的一部分。)\n"
   ]
  },
  {
   "cell_type": "code",
   "execution_count": 7,
   "metadata": {},
   "outputs": [
    {
     "name": "stdout",
     "output_type": "stream",
     "text": [
      "complicated\n"
     ]
    }
   ],
   "source": [
    "def find_longest_word(file):\n",
    "    f = open(file,'r')\n",
    "    longest_word=''\n",
    "    for line in f:\n",
    "        for i in line.replace('.','').split():\n",
    "            if len(i) > len(longest_word):\n",
    "                longest_word = i\n",
    "    \n",
    "    print(longest_word)\n",
    "    f.close()\n",
    "    \n",
    "        \n",
    "find_longest_word(\"text2.txt\")"
   ]
  },
  {
   "cell_type": "code",
   "execution_count": null,
   "metadata": {},
   "outputs": [],
   "source": []
  }
 ],
 "metadata": {
  "kernelspec": {
   "display_name": "Python 3",
   "language": "python",
   "name": "python3"
  },
  "language_info": {
   "codemirror_mode": {
    "name": "ipython",
    "version": 3
   },
   "file_extension": ".py",
   "mimetype": "text/x-python",
   "name": "python",
   "nbconvert_exporter": "python",
   "pygments_lexer": "ipython3",
   "version": "3.8.5"
  }
 },
 "nbformat": 4,
 "nbformat_minor": 4
}
