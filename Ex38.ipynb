{
 "cells": [
  {
   "cell_type": "markdown",
   "metadata": {},
   "source": [
    "**冰淇淋球**\n",
    "\n",
    "定義以下兩個類別:\n",
    "\n",
    "1.**Scoop**代表冰淇淋球，其物件會包含一個屬性**flavor**。\n",
    "\n",
    "2.**Scoop_Maker**代表冰淇淋製造機，沒有屬性，但有一個method。**create()**此函式能接收一個字串List(各種冰淇淋口味),並傳回一個由Scoop物件構成的list。"
   ]
  },
  {
   "cell_type": "code",
   "execution_count": 2,
   "metadata": {},
   "outputs": [
    {
     "name": "stdout",
     "output_type": "stream",
     "text": [
      "巧克力\n",
      "香草\n",
      "薄荷\n"
     ]
    }
   ],
   "source": [
    "class Scoop :\n",
    "    def __init__(self,flavor):\n",
    "        self.flavor = flavor \n",
    "        \n",
    "\n",
    "class Scoop_Maker:\n",
    "    def create(self,flavors):\n",
    "        return [Scoop(flavor) for flavor in flavors]\n",
    "    \n",
    "\n",
    "    \n",
    "scoop_maker = Scoop_Maker()\n",
    "scoops = scoop_maker.create(['巧克力','香草','薄荷'])\n",
    "\n",
    "for scoop in scoops :\n",
    "    print(scoop.flavor)\n",
    "        \n",
    "        "
   ]
  },
  {
   "cell_type": "code",
   "execution_count": null,
   "metadata": {},
   "outputs": [],
   "source": []
  }
 ],
 "metadata": {
  "kernelspec": {
   "display_name": "Python 3",
   "language": "python",
   "name": "python3"
  },
  "language_info": {
   "codemirror_mode": {
    "name": "ipython",
    "version": 3
   },
   "file_extension": ".py",
   "mimetype": "text/x-python",
   "name": "python",
   "nbconvert_exporter": "python",
   "pygments_lexer": "ipython3",
   "version": "3.8.5"
  }
 },
 "nbformat": 4,
 "nbformat_minor": 4
}
