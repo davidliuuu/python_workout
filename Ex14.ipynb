{
 "cells": [
  {
   "cell_type": "markdown",
   "metadata": {},
   "source": [
    "**餐點點餐機**\n",
    "\n",
    "|  名稱   | 價格  |\n",
    "|  ----  | ----  |\n",
    "| 三明治| 50 |\n",
    "| 咖啡 | 40 |\n",
    "| 沙拉 | 30 |\n",
    "\n",
    "1.寫一個函式**order_meal()**，讓使用者輸入要點的餐點，並統計點餐的總金額，直到使用者直接按Enter結束為止。\n",
    "\n",
    "2.餐點資料會存在一個dict內，鍵為餐點名稱，值則為餐點價格。\n",
    "\n",
    "3.若使用者輸入菜單上沒有的餐點，顯示錯誤訊息。\n",
    "\n",
    "4.使用者點餐結束後，顯示總金額"
   ]
  },
  {
   "cell_type": "code",
   "execution_count": 2,
   "metadata": {},
   "outputs": [
    {
     "name": "stdout",
     "output_type": "stream",
     "text": [
      "請點餐:三明治\n",
      "三明治50元,總金額50元\n",
      "請點餐:咖啡\n",
      "咖啡40元,總金額90元\n",
      "請點餐:沙拉\n",
      "沙拉30元,總金額120元\n",
      "請點餐:貝果\n",
      "抱歉,我們沒有供應貝果\n",
      "請點餐:\n",
      "您的帳單為:120\n"
     ]
    }
   ],
   "source": [
    "def order_meal():\n",
    "    mealinfo = {'三明治':50,'咖啡':40,'沙拉':30}\n",
    "    total = 0\n",
    "    while True:\n",
    "        userinput = input(\"請點餐:\")\n",
    "        if userinput in mealinfo:\n",
    "            total += mealinfo[userinput]\n",
    "            print('{}{}元,總金額{}元'.format(userinput,mealinfo[userinput],total))\n",
    "        elif userinput == \"\":\n",
    "            break;\n",
    "        else:\n",
    "            print(\"抱歉,我們沒有供應{}\".format(userinput))\n",
    "    print('您的帳單為:{}'.format(total))\n",
    "    \n",
    "    \n",
    "order_meal()\n"
   ]
  },
  {
   "cell_type": "code",
   "execution_count": null,
   "metadata": {},
   "outputs": [],
   "source": []
  }
 ],
 "metadata": {
  "kernelspec": {
   "display_name": "Python 3",
   "language": "python",
   "name": "python3"
  },
  "language_info": {
   "codemirror_mode": {
    "name": "ipython",
    "version": 3
   },
   "file_extension": ".py",
   "mimetype": "text/x-python",
   "name": "python",
   "nbconvert_exporter": "python",
   "pygments_lexer": "ipython3",
   "version": "3.8.5"
  }
 },
 "nbformat": 4,
 "nbformat_minor": 4
}
