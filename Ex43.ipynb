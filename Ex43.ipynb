{
 "cells": [
  {
   "cell_type": "markdown",
   "metadata": {},
   "source": [
    "**動物類別**\n",
    "\n",
    "1.替不同動物建立類別(這些類別--例如Zebra(斑馬)類別--都繼承自Animal類別)。Animal類別給予物件的屬性如下\n",
    "\n",
    "**species** (種族)\n",
    "\n",
    "**color** (顏色)\n",
    "\n",
    "**leg_num** (有幾隻腳)\n",
    "\n",
    "其中**species**的內容就是其類別名稱。例如Zebra類別的物件的species屬性值就是'Zebra'\n"
   ]
  },
  {
   "cell_type": "code",
   "execution_count": 1,
   "metadata": {},
   "outputs": [
    {
     "name": "stdout",
     "output_type": "stream",
     "text": [
      "Elephant(color = '灰',leg_num=4)\n",
      "Zebra(color = '黑白',leg_num=4)\n",
      "Snake(color = '綠',leg_num=0)\n",
      "Parrot(color = '灰',leg_num=2)\n"
     ]
    }
   ],
   "source": [
    "class Animal:\n",
    "    def __init__(self,color,leg_num):\n",
    "        self.species =  self.__class__.__name__  #透過 __class__.__name__取得類別名稱\n",
    "        self.color = color \n",
    "        self.leg_num = leg_num \n",
    "        \n",
    "    def __repr__(self):\n",
    "        return f'{self.species}(color = {self.color!r},leg_num={self.leg_num})' #!r代表對這些值呼叫repr(),這樣若值是字串,印出時就會加上單引號\n",
    "\n",
    "    \n",
    "class Zebra(Animal):\n",
    "    def __init__(self,color):\n",
    "        super().__init__(color,4)  #super() 取得父類別\n",
    "\n",
    "        \n",
    "class Elephant(Animal):\n",
    "    def __init__(self,color):\n",
    "        super().__init__(color,4)  #super() 取得父類別\n",
    "        \n",
    "class Snake(Animal):\n",
    "    def __init__(self,color):\n",
    "        super().__init__(color,0)  #super() 取得父類別\n",
    "        \n",
    "class Parrot(Animal):\n",
    "    def __init__(self,color):\n",
    "        super().__init__(color,2)  #super() 取得父類別\n",
    "        \n",
    "        \n",
    "elephant = Elephant('灰')\n",
    "zebra = Zebra('黑白')\n",
    "snake = Snake('綠')\n",
    "parrot = Parrot('灰')\n",
    "\n",
    "print(elephant)\n",
    "print(zebra)\n",
    "print(snake)\n",
    "print(parrot)"
   ]
  },
  {
   "cell_type": "code",
   "execution_count": null,
   "metadata": {},
   "outputs": [],
   "source": []
  }
 ],
 "metadata": {
  "kernelspec": {
   "display_name": "Python 3",
   "language": "python",
   "name": "python3"
  },
  "language_info": {
   "codemirror_mode": {
    "name": "ipython",
    "version": 3
   },
   "file_extension": ".py",
   "mimetype": "text/x-python",
   "name": "python",
   "nbconvert_exporter": "python",
   "pygments_lexer": "ipython3",
   "version": "3.8.5"
  }
 },
 "nbformat": 4,
 "nbformat_minor": 4
}
