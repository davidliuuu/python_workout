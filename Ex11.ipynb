{
 "cells": [
  {
   "cell_type": "markdown",
   "metadata": {},
   "source": [
    "**依姓名排序聯絡資料**\n",
    "\n",
    "people = [\n",
    "('joe','Biden','president@usa.gov'),\n",
    "('Emmanuel','Macron','president@france.gov'),\n",
    "('Justin','Trudeau','president@canada.gov'),\n",
    "('Angela','Merkel','president@germany.gov'),\n",
    "('Jacinda','Ardern','president@newzealand.gov'),\n",
    "]\n",
    "\n",
    "1.此list的每一個tuple都是一筆資料,記錄名、姓、電子郵件。\n",
    "\n",
    "2.請按照姓->名的順序來排序這些資料。\n",
    "\n",
    "3.寫一個函式**alphabetize_names()**。\n",
    "\n",
    "**output**\n",
    "\n",
    " "
   ]
  },
  {
   "cell_type": "code",
   "execution_count": 9,
   "metadata": {},
   "outputs": [
    {
     "name": "stdout",
     "output_type": "stream",
     "text": [
      "Ardern,Jacinda:president@newzealand.gov\n",
      "Biden,joe:president@usa.gov\n",
      "Macron,Emmanuel:president@france.gov\n",
      "Merkel,Angela:president@germany.gov\n",
      "Trudeau,Justin:president@canada.gov\n"
     ]
    }
   ],
   "source": [
    "def alphabetize_names(people):\n",
    "    for person in sorted(people,key = lambda d :(d[1],d[0])):\n",
    "        print(f'{person[1]},{person[0]}:{person[2]}')\n",
    "    \n",
    "    \n",
    "    \n",
    "    \n",
    "    \n",
    "    \n",
    "    \n",
    "    \n",
    "    \n",
    "    \n",
    "people = [ \n",
    "('joe','Biden','president@usa.gov'),\n",
    "('Emmanuel','Macron','president@france.gov'),\n",
    "('Justin','Trudeau','president@canada.gov'), \n",
    "('Angela','Merkel','president@germany.gov'), \n",
    "('Jacinda','Ardern','president@newzealand.gov')\n",
    "         ]\n",
    "\n",
    "alphabetize_names(people)\n",
    "    "
   ]
  },
  {
   "cell_type": "code",
   "execution_count": 7,
   "metadata": {},
   "outputs": [
    {
     "name": "stdout",
     "output_type": "stream",
     "text": [
      "Ardern,Jacinda:president@newzealand.gov\n",
      "Biden,joe:president@usa.gov\n",
      "Macron,Emmanuel:president@france.gov\n",
      "Merkel,Angela:president@germany.gov\n",
      "Trudeau,Justin:president@canada.gov\n"
     ]
    }
   ],
   "source": [
    "#使用 operator.itemgetter() 取代 lambda\n",
    "\n",
    "import operator\n",
    "\n",
    "def alphabetize_names(people):\n",
    "    for person in sorted(people,key=operator.itemgetter(1,0)):\n",
    "        print(f'{person[1]},{person[0]}:{person[2]}')\n",
    "    \n",
    "    \n",
    "    \n",
    "    \n",
    "    \n",
    "    \n",
    "    \n",
    "    \n",
    "    \n",
    "    \n",
    "people = [ \n",
    "('joe','Biden','president@usa.gov'),\n",
    "('Emmanuel','Macron','president@france.gov'),\n",
    "('Justin','Trudeau','president@canada.gov'), \n",
    "('Angela','Merkel','president@germany.gov'), \n",
    "('Jacinda','Ardern','president@newzealand.gov')\n",
    "         ]\n",
    "\n",
    "alphabetize_names(people)\n"
   ]
  },
  {
   "cell_type": "code",
   "execution_count": null,
   "metadata": {},
   "outputs": [],
   "source": []
  }
 ],
 "metadata": {
  "kernelspec": {
   "display_name": "Python 3",
   "language": "python",
   "name": "python3"
  },
  "language_info": {
   "codemirror_mode": {
    "name": "ipython",
    "version": 3
   },
   "file_extension": ".py",
   "mimetype": "text/x-python",
   "name": "python",
   "nbconvert_exporter": "python",
   "pygments_lexer": "ipython3",
   "version": "3.8.5"
  }
 },
 "nbformat": 4,
 "nbformat_minor": 4
}
