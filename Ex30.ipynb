{
 "cells": [
  {
   "cell_type": "markdown",
   "metadata": {},
   "source": [
    "**用巢狀生成式壓平二維List**\n",
    "\n",
    "1.寫一個函式**flatten()**,用生成式將二維List轉換成一維。\n",
    "\n",
    "```\n",
    "#input\n",
    "\n",
    "[[1,2],[3,4]]\n",
    "\n",
    "#output\n",
    "\n",
    "[1,2,3,4]\n",
    "```\n"
   ]
  },
  {
   "cell_type": "code",
   "execution_count": 1,
   "metadata": {},
   "outputs": [
    {
     "name": "stdout",
     "output_type": "stream",
     "text": [
      "[1, 2, 3, 4]\n"
     ]
    }
   ],
   "source": [
    "#用多重for迴圈達成\n",
    "\n",
    "my_list = []\n",
    "\n",
    "for x in [[1,2],[3,4]]:\n",
    "    for y in x:\n",
    "        my_list.append(y)\n",
    "        \n",
    "print(my_list)"
   ]
  },
  {
   "cell_type": "code",
   "execution_count": 2,
   "metadata": {},
   "outputs": [
    {
     "name": "stdout",
     "output_type": "stream",
     "text": [
      "[1, 2, 3, 4]\n"
     ]
    }
   ],
   "source": [
    "#用生成式編寫\n",
    "\n",
    "print([y for x in [[1,2],[3,4]] for y in x])"
   ]
  },
  {
   "cell_type": "code",
   "execution_count": 3,
   "metadata": {},
   "outputs": [
    {
     "name": "stdout",
     "output_type": "stream",
     "text": [
      "[1, 2, 3, 4]\n"
     ]
    }
   ],
   "source": [
    "def flatten(data):\n",
    "    my_list=[]\n",
    "    for x in data:\n",
    "        for y in x:\n",
    "            my_list.append(y)\n",
    "    \n",
    "    return my_list\n",
    "    \n",
    "print(flatten([[1,2],[3,4]]))"
   ]
  },
  {
   "cell_type": "code",
   "execution_count": null,
   "metadata": {},
   "outputs": [],
   "source": []
  }
 ],
 "metadata": {
  "kernelspec": {
   "display_name": "Python 3",
   "language": "python",
   "name": "python3"
  },
  "language_info": {
   "codemirror_mode": {
    "name": "ipython",
    "version": 3
   },
   "file_extension": ".py",
   "mimetype": "text/x-python",
   "name": "python",
   "nbconvert_exporter": "python",
   "pygments_lexer": "ipython3",
   "version": "3.8.5"
  }
 },
 "nbformat": 4,
 "nbformat_minor": 4
}
