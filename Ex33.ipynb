{
 "cells": [
  {
   "cell_type": "markdown",
   "metadata": {},
   "source": [
    "**擷取登入帳號資訊(生成式版)**\n",
    "\n",
    "寫一個函式**passwd_to_dict_2()**,以生成式抽出**passwd**檔案中的使用者名稱與ID,並包成dict的形式傳回。"
   ]
  },
  {
   "cell_type": "code",
   "execution_count": 4,
   "metadata": {},
   "outputs": [
    {
     "name": "stdout",
     "output_type": "stream",
     "text": [
      "['root', 'daemon', 'bin', 'sys', 'sync', 'games', 'man', 'lerner']\n"
     ]
    }
   ],
   "source": [
    "with open('passwd.cfg','r') as f:\n",
    "    print([words[0] for words in [line.split(':') for line in f ]])"
   ]
  },
  {
   "cell_type": "code",
   "execution_count": 7,
   "metadata": {},
   "outputs": [
    {
     "name": "stdout",
     "output_type": "stream",
     "text": [
      "{'root': '0', 'daemon': '1', 'bin': '2', 'sys': '3', 'sync': '4', 'games': '5', 'man': '6', 'lerner': '1000'}\n"
     ]
    }
   ],
   "source": [
    "def passwd_to_dict_2(filename):\n",
    "    with open(filename , 'r') as f :\n",
    "        d = {words[0] : words[2] for words in [line.split(':') for line in f ]}\n",
    "        return d\n",
    "    \n",
    "print(passwd_to_dict_2('passwd.cfg'))"
   ]
  },
  {
   "cell_type": "code",
   "execution_count": null,
   "metadata": {},
   "outputs": [],
   "source": []
  }
 ],
 "metadata": {
  "kernelspec": {
   "display_name": "Python 3",
   "language": "python",
   "name": "python3"
  },
  "language_info": {
   "codemirror_mode": {
    "name": "ipython",
    "version": 3
   },
   "file_extension": ".py",
   "mimetype": "text/x-python",
   "name": "python",
   "nbconvert_exporter": "python",
   "pygments_lexer": "ipython3",
   "version": "3.8.5"
  }
 },
 "nbformat": 4,
 "nbformat_minor": 4
}
