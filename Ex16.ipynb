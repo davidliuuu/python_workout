{
 "cells": [
  {
   "cell_type": "markdown",
   "metadata": {},
   "source": [
    "**有幾個不重複的數字**\n",
    "\n",
    "```\n",
    "numbers =[1,2,3,1,2,3,4,1,2]\n",
    "```\n",
    "\n",
    "1.寫一個函式 **unique_num_len()** 傳入一個list 或 tuple ,並傳回該容器內不重複之數字的數量。"
   ]
  },
  {
   "cell_type": "code",
   "execution_count": 2,
   "metadata": {},
   "outputs": [
    {
     "name": "stdout",
     "output_type": "stream",
     "text": [
      "4\n"
     ]
    }
   ],
   "source": [
    "def unique_num_len(numbers):\n",
    "    return len(set(numbers))\n",
    "    \n",
    "    \n",
    "numbers =[1,2,3,1,2,3,4,1,2]\n",
    "print(unique_num_len(numbers))"
   ]
  },
  {
   "cell_type": "code",
   "execution_count": null,
   "metadata": {},
   "outputs": [],
   "source": []
  }
 ],
 "metadata": {
  "kernelspec": {
   "display_name": "Python 3",
   "language": "python",
   "name": "python3"
  },
  "language_info": {
   "codemirror_mode": {
    "name": "ipython",
    "version": 3
   },
   "file_extension": ".py",
   "mimetype": "text/x-python",
   "name": "python",
   "nbconvert_exporter": "python",
   "pygments_lexer": "ipython3",
   "version": "3.8.5"
  }
 },
 "nbformat": 4,
 "nbformat_minor": 4
}
