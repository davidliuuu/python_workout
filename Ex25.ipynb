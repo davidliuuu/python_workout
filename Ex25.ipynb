{
 "cells": [
  {
   "cell_type": "markdown",
   "metadata": {},
   "source": [
    "**XML產生器**\n",
    "\n",
    "1.寫一個函式**myxml()**,此函式根據填入的參數不同，傳回結果會如下:\n",
    "\n",
    "|  呼叫   | 傳回值  |\n",
    "|  ----  | ----  |\n",
    "| myxml('foo')  | < foo>< /foo > |\n",
    "| myxml('foo','bar')  | < foo>bar< /foo > |\n",
    "| myxml('foo','bar',a=1,b=2,c=3) | < foo a=\"1\" b=\"2\" c=\"3\">bar< /foo >|"
   ]
  },
  {
   "cell_type": "code",
   "execution_count": 1,
   "metadata": {},
   "outputs": [
    {
     "name": "stdout",
     "output_type": "stream",
     "text": [
      "(1, 2, 3)\n"
     ]
    }
   ],
   "source": [
    "def func(*args):\n",
    "    print(args)\n",
    "    \n",
    "a = 1\n",
    "b = 2\n",
    "c = 3 \n",
    "func(a,b,c)"
   ]
  },
  {
   "cell_type": "code",
   "execution_count": 2,
   "metadata": {},
   "outputs": [
    {
     "name": "stdout",
     "output_type": "stream",
     "text": [
      "{'a': 1, 'b': 2, 'c': 3}\n"
     ]
    }
   ],
   "source": [
    "def func(**kwargs):\n",
    "    print(kwargs)\n",
    "    \n",
    "func(a=1 , b=2 , c=3)"
   ]
  },
  {
   "cell_type": "code",
   "execution_count": 5,
   "metadata": {},
   "outputs": [
    {
     "name": "stdout",
     "output_type": "stream",
     "text": [
      "<foo a=\"1\"b=\"2\"c=\"3\" >bar</foo>\n"
     ]
    }
   ],
   "source": [
    "def myxml(tag , content='' , **kwargs):\n",
    "    attrs_list = []\n",
    "    for key , value in kwargs.items():\n",
    "        attrs_list.append(f'{key}=\"{value}\"')\n",
    "        \n",
    "    attrs = ''.join(attrs_list)\n",
    "    \n",
    "    return f'<{tag} {attrs} >{content}</{tag}>'\n",
    "\n",
    "print(myxml('foo','bar',a=1,b=2,c=3))"
   ]
  },
  {
   "cell_type": "code",
   "execution_count": null,
   "metadata": {},
   "outputs": [],
   "source": []
  }
 ],
 "metadata": {
  "kernelspec": {
   "display_name": "Python 3",
   "language": "python",
   "name": "python3"
  },
  "language_info": {
   "codemirror_mode": {
    "name": "ipython",
    "version": 3
   },
   "file_extension": ".py",
   "mimetype": "text/x-python",
   "name": "python",
   "nbconvert_exporter": "python",
   "pygments_lexer": "ipython3",
   "version": "3.8.5"
  }
 },
 "nbformat": 4,
 "nbformat_minor": 4
}
