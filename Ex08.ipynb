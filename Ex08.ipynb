{
 "cells": [
  {
   "cell_type": "markdown",
   "metadata": {},
   "source": [
    "**字元排序**\n",
    "\n",
    "1.寫一個函式 strsort(),輸入一個字串,傳回字母排序後的新字串\n"
   ]
  },
  {
   "cell_type": "code",
   "execution_count": 12,
   "metadata": {},
   "outputs": [
    {
     "name": "stdout",
     "output_type": "stream",
     "text": [
      "hnopty\n"
     ]
    }
   ],
   "source": [
    "def strsort(word):\n",
    "    l = list(word)\n",
    "    \n",
    "    l.sort()   #利用list.sort()做排序\n",
    "    print(''.join(l))\n",
    "\n",
    "                   \n",
    "strsort(\"python\")"
   ]
  },
  {
   "cell_type": "code",
   "execution_count": 20,
   "metadata": {},
   "outputs": [
    {
     "name": "stdout",
     "output_type": "stream",
     "text": [
      "hnopty\n"
     ]
    }
   ],
   "source": [
    "def strsorted(word):\n",
    "    \n",
    "    print(''.join(sorted(word)))  #利用sorted(str)直接將字串轉為list並排序\n",
    "    \n",
    "strsorted(\"python\")"
   ]
  },
  {
   "cell_type": "markdown",
   "metadata": {},
   "source": [
    "**讓字母順序排列，不分大小寫**\n",
    "\n"
   ]
  },
  {
   "cell_type": "code",
   "execution_count": 28,
   "metadata": {},
   "outputs": [
    {
     "name": "stdout",
     "output_type": "stream",
     "text": [
      "hnoPty\n"
     ]
    }
   ],
   "source": [
    "def strsorted(word):\n",
    "    print(''.join(sorted(word,key=str.lower)))  #利用sorted(str)直接將字串轉為list並排序\n",
    "                                                #並加入key=str.lower參數來用小寫格式作排列 \n",
    "\n",
    "    \n",
    "strsorted(\"Python\")"
   ]
  },
  {
   "cell_type": "code",
   "execution_count": null,
   "metadata": {},
   "outputs": [],
   "source": []
  }
 ],
 "metadata": {
  "kernelspec": {
   "display_name": "Python 3",
   "language": "python",
   "name": "python3"
  },
  "language_info": {
   "codemirror_mode": {
    "name": "ipython",
    "version": 3
   },
   "file_extension": ".py",
   "mimetype": "text/x-python",
   "name": "python",
   "nbconvert_exporter": "python",
   "pygments_lexer": "ipython3",
   "version": "3.8.5"
  }
 },
 "nbformat": 4,
 "nbformat_minor": 4
}
