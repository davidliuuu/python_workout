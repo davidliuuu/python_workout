{
 "cells": [
  {
   "cell_type": "markdown",
   "metadata": {},
   "source": [
    "**函式選單模組**\n",
    "\n",
    "1.撰寫一個模組**menu**,當中包含一個函式**menu()**。\n",
    "\n",
    "2.使用者用一系列關鍵字參數和外部函式傳入**menu()**,他會傳回一個menu物件。實際上menu()會傳回一個閉包函式給使用者。\n",
    "\n",
    "3.這個閉包函式沒有參數，但執行時會印出所有關鍵字參數，並以input()詢問使用者要使用哪一個外部函式。\n",
    "\n",
    "4.menu物件根據使用者輸入的關鍵字，傳回對應的外部函式，並結束自身程式。若使用者輸入的關鍵字無效，就以迴圈繼續提示使用者輸入。"
   ]
  },
  {
   "cell_type": "code",
   "execution_count": 1,
   "metadata": {},
   "outputs": [
    {
     "name": "stdout",
     "output_type": "stream",
     "text": [
      "選擇項目 (a/b/x): a\n",
      "執行函式 A\n"
     ]
    }
   ],
   "source": [
    "from menu import menu\n",
    "\n",
    "def func_a():\n",
    "    return '執行函式 A'\n",
    "\n",
    "def func_b():\n",
    "    return '執行函式 B'\n",
    "\n",
    "def func_x():\n",
    "    return '執行函式 X'\n",
    "\n",
    "my_menu = menu(a=func_a, b=func_b, x=func_x)\n",
    "\n",
    "func = my_menu()\n",
    "print(func())\n"
   ]
  },
  {
   "cell_type": "code",
   "execution_count": null,
   "metadata": {},
   "outputs": [],
   "source": []
  }
 ],
 "metadata": {
  "kernelspec": {
   "display_name": "Python 3",
   "language": "python",
   "name": "python3"
  },
  "language_info": {
   "codemirror_mode": {
    "name": "ipython",
    "version": 3
   },
   "file_extension": ".py",
   "mimetype": "text/x-python",
   "name": "python",
   "nbconvert_exporter": "python",
   "pygments_lexer": "ipython3",
   "version": "3.8.5"
  }
 },
 "nbformat": 4,
 "nbformat_minor": 4
}
