{
 "cells": [
  {
   "cell_type": "markdown",
   "metadata": {},
   "source": [
    "**比較兩個dict的差異**\n",
    "\n",
    "1.寫一個函式**dict_diff()**,參數為兩個dict。此函式傳回的dict會包含參數中有差異的鍵和其值\n",
    "\n"
   ]
  },
  {
   "cell_type": "code",
   "execution_count": 11,
   "metadata": {},
   "outputs": [
    {
     "name": "stdout",
     "output_type": "stream",
     "text": [
      "{'c': [3, None], 'd': [5, 4], 'e': [None, 6]}\n"
     ]
    }
   ],
   "source": [
    "def dict_diff(dict1,dict2):\n",
    "    newdict = {}\n",
    "    allkey = sorted(dict1.keys() | dict2.keys())          \n",
    "    \n",
    "    \n",
    "    \n",
    "    for key in allkey:\n",
    "        if dict1.get(key) != dict2.get(key):\n",
    "            newdict[key] = [dict1.get(key),dict2.get(key)]\n",
    "\n",
    "    \n",
    "    print(newdict)\n",
    "\n",
    "d1 = {'a':1,'b':2,'c':3,'d':5}\n",
    "d2 = {'a':1,'b':2,'d':4,'e':6}\n",
    "\n",
    "dict_diff(d1,d2)\n",
    "    "
   ]
  },
  {
   "cell_type": "code",
   "execution_count": null,
   "metadata": {},
   "outputs": [],
   "source": []
  }
 ],
 "metadata": {
  "kernelspec": {
   "display_name": "Python 3",
   "language": "python",
   "name": "python3"
  },
  "language_info": {
   "codemirror_mode": {
    "name": "ipython",
    "version": 3
   },
   "file_extension": ".py",
   "mimetype": "text/x-python",
   "name": "python",
   "nbconvert_exporter": "python",
   "pygments_lexer": "ipython3",
   "version": "3.8.5"
  }
 },
 "nbformat": 4,
 "nbformat_minor": 4
}
