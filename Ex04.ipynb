{
 "cells": [
  {
   "cell_type": "markdown",
   "metadata": {},
   "source": [
    "**將16進位數轉為10進位**\n",
    "\n",
    "1.如果是10進位轉16進位，用內建韓式hex()就可以了。\n",
    "\n",
    "2.寫一個函式 hex_to_dec()，會請使用者輸入一個16進位數(不包括用來代表16進位數的0x前綴符號，且假設英文字部分全大寫)，然後輸出對應的10進位數。\n",
    "\n",
    "3.假設使用者不會輸入0~9和A~F以外的數字。\n",
    "\n"
   ]
  },
  {
   "cell_type": "code",
   "execution_count": 14,
   "metadata": {},
   "outputs": [
    {
     "name": "stdout",
     "output_type": "stream",
     "text": [
      "請輸入16進位數字:ABCD\n",
      "轉換為十進位: 43981\n"
     ]
    }
   ],
   "source": [
    "def hex_to_dec():\n",
    "    Decnum = 0\n",
    "    Hexnum = input(\"請輸入16進位數字:\")\n",
    "    reHexnum = list(reversed(Hexnum)) #reversed() 反轉str 並放到list內\n",
    "    \n",
    "    for i in range(0,len(reHexnum)):\n",
    "        if reHexnum[i].isdigit():\n",
    "            num = int(reHexnum[i])\n",
    "            Decnum = Decnum + num*(16**i)\n",
    "        else:\n",
    "            num = int(ord(reHexnum[i]))-55\n",
    "            Decnum = Decnum + num*(16**i)\n",
    "        \n",
    "    \n",
    "    print(\"轉換為十進位:\",Decnum)\n",
    "    \n",
    "\n",
    "hex_to_dec()\n"
   ]
  },
  {
   "cell_type": "code",
   "execution_count": 13,
   "metadata": {},
   "outputs": [
    {
     "name": "stdout",
     "output_type": "stream",
     "text": [
      "輸入十六進位數:ABCD\n",
      "轉換為十進位: 43981\n"
     ]
    }
   ],
   "source": [
    "#直接用int()轉換不同進位數\n",
    "\n",
    "hexnum = input('輸入十六進位數:')\n",
    "\n",
    "decnum = int(hexnum , 16)\n",
    "\n",
    "print(\"轉換為十進位:\",decnum)\n"
   ]
  },
  {
   "cell_type": "code",
   "execution_count": null,
   "metadata": {},
   "outputs": [],
   "source": []
  }
 ],
 "metadata": {
  "kernelspec": {
   "display_name": "Python 3",
   "language": "python",
   "name": "python3"
  }
 },
 "nbformat": 4,
 "nbformat_minor": 4
}
