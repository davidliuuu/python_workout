{
 "cells": [
  {
   "cell_type": "markdown",
   "metadata": {},
   "source": [
    "**能計算時間長度的產生器**\n",
    "\n",
    "1.寫一個產生器函式**elapsed_time_gen()**,沒有參數,傳回的產生器會在每次取值時,傳回從上次取值到現在經過的時間(這回你可用next()來取值)。\n",
    "\n",
    "2.可以用time模組的time()來取得系統秒數,或使用perf_counter()取得系統計數器的秒數。\n"
   ]
  },
  {
   "cell_type": "code",
   "execution_count": 3,
   "metadata": {},
   "outputs": [
    {
     "name": "stdout",
     "output_type": "stream",
     "text": [
      "5.000000555810402e-07\n",
      "0.20484049999993204\n",
      "0.8011238999999932\n",
      "0.20056210000007013\n",
      "0.30898849999994127\n"
     ]
    }
   ],
   "source": [
    "import time , random\n",
    "\n",
    "def elapsed_time_gen():\n",
    "    last_time = time.perf_counter()\n",
    "    while True:\n",
    "        now = time.perf_counter()\n",
    "        yield now - last_time\n",
    "        last_time = now\n",
    "        \n",
    "elapsed_time = elapsed_time_gen()\n",
    "\n",
    "for _ in range(5):\n",
    "    time.sleep(random.randint(1,10)/10)\n",
    "    print(next(elapsed_time))"
   ]
  },
  {
   "cell_type": "code",
   "execution_count": null,
   "metadata": {},
   "outputs": [],
   "source": []
  }
 ],
 "metadata": {
  "kernelspec": {
   "display_name": "Python 3",
   "language": "python",
   "name": "python3"
  },
  "language_info": {
   "codemirror_mode": {
    "name": "ipython",
    "version": 3
   },
   "file_extension": ".py",
   "mimetype": "text/x-python",
   "name": "python",
   "nbconvert_exporter": "python",
   "pygments_lexer": "ipython3",
   "version": "3.8.5"
  }
 },
 "nbformat": 4,
 "nbformat_minor": 4
}
