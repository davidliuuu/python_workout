{
 "cells": [
  {
   "cell_type": "markdown",
   "metadata": {},
   "source": [
    "**簡易前序式計算機**\n",
    "\n",
    "1.寫一個函式**prefix_cal()**,傳入比如'+ 2 3'(算術符號 數字 數字)這樣的字串(各數字或符號之間以空格隔開)，並傳回計算結果。這個函式得支援加減乘除計算。"
   ]
  },
  {
   "cell_type": "code",
   "execution_count": 5,
   "metadata": {},
   "outputs": [
    {
     "name": "stdout",
     "output_type": "stream",
     "text": [
      "5\n",
      "-1\n",
      "6\n",
      "0.6666666666666666\n"
     ]
    }
   ],
   "source": [
    "def add(num1 , num2):\n",
    "    return num1 + num2\n",
    "\n",
    "def sub(num1 , num2):\n",
    "    return num1 - num2\n",
    "\n",
    "def div(num1 , num2):\n",
    "    return num1 / num2\n",
    "\n",
    "def mul(num1 , num2):\n",
    "    return num1 * num2\n",
    "\n",
    "\n",
    "def prefix_cal(to_solve):\n",
    "    sym , num1 , num2 = to_solve.split()\n",
    "    a = int(num1)\n",
    "    b = int(num2)\n",
    "    if sym == \"+\":\n",
    "        return add(a,b)\n",
    "    elif sym == \"-\":\n",
    "        return sub(a,b)\n",
    "    elif sym == \"*\":\n",
    "        return mul(a,b)\n",
    "    elif sym == \"/\":\n",
    "        return div(a,b)\n",
    "    \n",
    "\n",
    "    \n",
    "\n",
    "\n",
    "\n",
    "    \n",
    "print(prefix_cal(\"+ 2 3\"))\n",
    "print(prefix_cal(\"- 2 3\"))\n",
    "print(prefix_cal(\"* 2 3\"))\n",
    "print(prefix_cal(\"/ 2 3\"))"
   ]
  },
  {
   "cell_type": "code",
   "execution_count": null,
   "metadata": {},
   "outputs": [],
   "source": []
  }
 ],
 "metadata": {
  "kernelspec": {
   "display_name": "Python 3",
   "language": "python",
   "name": "python3"
  },
  "language_info": {
   "codemirror_mode": {
    "name": "ipython",
    "version": 3
   },
   "file_extension": ".py",
   "mimetype": "text/x-python",
   "name": "python",
   "nbconvert_exporter": "python",
   "pygments_lexer": "ipython3",
   "version": "3.8.5"
  }
 },
 "nbformat": 4,
 "nbformat_minor": 4
}
