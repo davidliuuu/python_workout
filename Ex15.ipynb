{
 "cells": [
  {
   "cell_type": "markdown",
   "metadata": {},
   "source": [
    "**降雨量資料庫**\n",
    "\n",
    "1.寫一支函式**record_rainfall()**,每次會分別讓使用者輸入一個城市名稱和該城市的降雨量資料(假設使用者對於降雨量只會輸入數值)。重複輸入的城市，其降雨量會累加。\n",
    "\n",
    "2.如果使用者在輸入城市名稱時直接按Enter，結束輸入並印出之前紀錄的所有城市/降雨量資料\n",
    "\n",
    "3.如果使用者在輸入降雨量時直接按Enter，就視為輸入數值0。"
   ]
  },
  {
   "cell_type": "code",
   "execution_count": 3,
   "metadata": {},
   "outputs": [
    {
     "name": "stdout",
     "output_type": "stream",
     "text": [
      "輸入城市:紐約\n",
      "輸入雨量(mm)10\n",
      "輸入城市:紐約\n",
      "輸入雨量(mm)2\n",
      "輸入城市:華盛頓\n",
      "輸入雨量(mm)5\n",
      "輸入城市:波士頓\n",
      "輸入雨量(mm)10\n",
      "輸入城市:\n",
      "紐約:12 mm\n",
      "華盛頓:5 mm\n",
      "波士頓:10 mm\n"
     ]
    }
   ],
   "source": [
    "def record_rainfall():\n",
    "    rainfall = {}\n",
    "    while True:\n",
    "        city = input('輸入城市:')\n",
    "        if city == '':\n",
    "            break\n",
    "        else:\n",
    "            rain = int(input('輸入雨量(mm)'))\n",
    "            if rain == '':\n",
    "                rain = 0\n",
    "            if city in rainfall :\n",
    "                rainfall[city] += rain\n",
    "            else:\n",
    "                rainfall[city] = rain\n",
    "    for i in rainfall:\n",
    "        print('{}:{} mm'.format(i,rainfall[i]))\n",
    "        \n",
    "record_rainfall()"
   ]
  },
  {
   "cell_type": "code",
   "execution_count": null,
   "metadata": {},
   "outputs": [],
   "source": []
  }
 ],
 "metadata": {
  "kernelspec": {
   "display_name": "Python 3",
   "language": "python",
   "name": "python3"
  },
  "language_info": {
   "codemirror_mode": {
    "name": "ipython",
    "version": 3
   },
   "file_extension": ".py",
   "mimetype": "text/x-python",
   "name": "python",
   "nbconvert_exporter": "python",
   "pygments_lexer": "ipython3",
   "version": "3.8.5"
  }
 },
 "nbformat": 4,
 "nbformat_minor": 4
}
