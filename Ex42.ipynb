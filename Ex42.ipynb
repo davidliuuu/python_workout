{
 "cells": [
  {
   "cell_type": "markdown",
   "metadata": {},
   "source": [
    "**以字串為鍵的自訂dict**\n",
    "\n",
    "1.寫一個**StrDict**類別,繼承自Python的內建dict類別,並改寫後者的兩個method\n",
    "\n",
    "2.在執行**dict[鍵]=值**時會呼叫的__setitem__()\n",
    "\n",
    "3.在存取**dict[鍵]**時會呼叫的__getitem__()\n",
    "\n",
    "4.如果存取某個鍵時找不到,就轉成字串將他加入,並指定其值為None。"
   ]
  },
  {
   "cell_type": "code",
   "execution_count": 1,
   "metadata": {},
   "outputs": [
    {
     "name": "stdout",
     "output_type": "stream",
     "text": [
      "1\n",
      "3.14\n",
      "test\n",
      "None\n",
      "{'1': 1, '3.14': 3.14, '10': 'test', 'a': None}\n"
     ]
    }
   ],
   "source": [
    "class StrDict(dict):\n",
    "    \n",
    "    def __setitem__(self,key,value):\n",
    "        dict.__setitem__(self,str(key),value)\n",
    "        \n",
    "    def __getitem__(self,key):\n",
    "        if not str(key) in self:\n",
    "            self[key] = None\n",
    "        return dict.__getitem__(self,str(key))\n",
    "        \n",
    "\n",
    "sd = StrDict()\n",
    "sd[1] = 1\n",
    "sd[3.14] = 3.14\n",
    "sd['10'] = 'test'\n",
    "\n",
    "print(sd[1])\n",
    "print(sd['3.14'])\n",
    "print(sd[10])\n",
    "print(sd['a'])\n",
    "print(sd)"
   ]
  },
  {
   "cell_type": "code",
   "execution_count": null,
   "metadata": {},
   "outputs": [],
   "source": []
  }
 ],
 "metadata": {
  "kernelspec": {
   "display_name": "Python 3",
   "language": "python",
   "name": "python3"
  },
  "language_info": {
   "codemirror_mode": {
    "name": "ipython",
    "version": 3
   },
   "file_extension": ".py",
   "mimetype": "text/x-python",
   "name": "python",
   "nbconvert_exporter": "python",
   "pygments_lexer": "ipython3",
   "version": "3.8.5"
  }
 },
 "nbformat": 4,
 "nbformat_minor": 4
}
