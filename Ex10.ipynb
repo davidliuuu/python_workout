{
 "cells": [
  {
   "cell_type": "markdown",
   "metadata": {},
   "source": [
    "**萬用加總函式**\n",
    "\n",
    "1.撰寫**mysum()**函式\n",
    "\n",
    "2.用解包算符(*) 接收數量不定的資料。若沒有輸入資料，就直接傳回一個空tuple。\n",
    "\n",
    "3.如果有資料，將資料加起來或連接(這裡假設資料都可以使用+算符),並用同樣的型別傳回。\n",
    "\n",
    "**Input**\n",
    "\n",
    "print(mysum())\n",
    "\n",
    "print(mysum(10,20,30,40))\n",
    "\n",
    "print(mysum('abc','d','e'))\n",
    "\n",
    "print(mysum([10,20,30],[40,50],[60]))\n",
    "\n",
    "**Output**\n",
    "\n",
    "()\n",
    "\n",
    "100\n",
    "\n",
    "abcde\n",
    "\n",
    "[10,20,30,40,50,60]\n",
    "\n",
    "\n"
   ]
  },
  {
   "cell_type": "code",
   "execution_count": 1,
   "metadata": {},
   "outputs": [
    {
     "name": "stdout",
     "output_type": "stream",
     "text": [
      "()\n",
      "100\n",
      "abcde\n",
      "[10, 20, 30, 40, 50, 60]\n"
     ]
    }
   ],
   "source": [
    "def mysum(*items):\n",
    "    if items:\n",
    "        outputitems = items[0]\n",
    "        \n",
    "        for i  in items[1:]:\n",
    "            outputitems = outputitems + i\n",
    "        \n",
    "        return outputitems\n",
    "    else:\n",
    "        return items\n",
    "    \n",
    "print(mysum())\n",
    "\n",
    "print(mysum(10,20,30,40))\n",
    "\n",
    "print(mysum('abc','d','e'))\n",
    "\n",
    "print(mysum([10,20,30],[40,50],[60]))    "
   ]
  },
  {
   "cell_type": "code",
   "execution_count": 6,
   "metadata": {},
   "outputs": [
    {
     "name": "stdout",
     "output_type": "stream",
     "text": [
      "{'A': 1, 'B': 2, 'C': 3}\n"
     ]
    }
   ],
   "source": [
    "#dict(字典)的加總和合併\n",
    "\n",
    "d1 = {'A' : 1 ,'B' : 2}\n",
    "d2 = {'C' : 3}\n",
    "d1.update(d2)\n",
    "print(d1)"
   ]
  },
  {
   "cell_type": "code",
   "execution_count": 7,
   "metadata": {},
   "outputs": [
    {
     "ename": "SyntaxError",
     "evalue": "unexpected EOF while parsing (<ipython-input-7-e6cb64992508>, line 25)",
     "output_type": "error",
     "traceback": [
      "\u001b[1;36m  File \u001b[1;32m\"<ipython-input-7-e6cb64992508>\"\u001b[1;36m, line \u001b[1;32m25\u001b[0m\n\u001b[1;33m    print(mysum({'A': 1,'B':2},{'C': 3})\u001b[0m\n\u001b[1;37m                                         ^\u001b[0m\n\u001b[1;31mSyntaxError\u001b[0m\u001b[1;31m:\u001b[0m unexpected EOF while parsing\n"
     ]
    }
   ],
   "source": [
    "#修改mysum，使其可處理dict(字典)\n",
    "\n",
    "def mysum(*items):\n",
    "    if items:\n",
    "        outputitems = items[0]\n",
    "        \n",
    "        for i  in items[1:]:\n",
    "            if isinstance(i,dict):\n",
    "                outputitems.update(i)\n",
    "            else:\n",
    "                outputitems = outputitems + i\n",
    "        \n",
    "        return outputitems\n",
    "    else:\n",
    "        return items\n",
    "    \n",
    "print(mysum())\n",
    "\n",
    "print(mysum(10,20,30,40))\n",
    "\n",
    "print(mysum('abc','d','e'))\n",
    "\n",
    "print(mysum([10,20,30],[40,50],[60])) \n",
    "\n",
    "print(mysum({'A': 1,'B':2},{'C': 3}))"
   ]
  },
  {
   "cell_type": "code",
   "execution_count": null,
   "metadata": {},
   "outputs": [],
   "source": []
  }
 ],
 "metadata": {
  "kernelspec": {
   "display_name": "Python 3",
   "language": "python",
   "name": "python3"
  },
  "language_info": {
   "codemirror_mode": {
    "name": "ipython",
    "version": 3
   },
   "file_extension": ".py",
   "mimetype": "text/x-python",
   "name": "python",
   "nbconvert_exporter": "python",
   "pygments_lexer": "ipython3",
   "version": "3.8.5"
  }
 },
 "nbformat": 4,
 "nbformat_minor": 4
}
