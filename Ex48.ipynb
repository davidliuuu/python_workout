{
 "cells": [
  {
   "cell_type": "markdown",
   "metadata": {},
   "source": [
    "**檔案單字產生器**\n",
    "\n",
    "1.寫一個產生器函式**word_generator()**\n",
    "\n",
    "2.接收兩個參數.文字檔的路徑,以及想走訪的單字字數上限,並傳回一個產生器物件。\n",
    "\n",
    "3.產生器被走訪時,一次傳回文字檔中的一個單字,直到達到單字字數上限為止。\n",
    "\n",
    "4.使用text2.txt範例"
   ]
  },
  {
   "cell_type": "code",
   "execution_count": 4,
   "metadata": {},
   "outputs": [
    {
     "name": "stdout",
     "output_type": "stream",
     "text": [
      "Beautiful\n",
      "is\n",
      "better\n",
      "than\n",
      "ugly\n",
      "Explicit\n",
      "is\n",
      "better\n",
      "than\n",
      "implicit\n"
     ]
    }
   ],
   "source": [
    "def word_generator(filename , max_words):\n",
    "    index = 0\n",
    "    with open(filename,'r') as file:\n",
    "        for line in file:\n",
    "            for word in line.split():\n",
    "                if index >= max_words:\n",
    "                    return\n",
    "                yield word.replace('.','')\n",
    "                index += 1\n",
    "                \n",
    "\n",
    "ten_words = word_generator(r'text2.txt',10)\n",
    "\n",
    "for word in ten_words:\n",
    "    print(word)"
   ]
  },
  {
   "cell_type": "code",
   "execution_count": null,
   "metadata": {},
   "outputs": [],
   "source": []
  }
 ],
 "metadata": {
  "kernelspec": {
   "display_name": "Python 3",
   "language": "python",
   "name": "python3"
  },
  "language_info": {
   "codemirror_mode": {
    "name": "ipython",
    "version": 3
   },
   "file_extension": ".py",
   "mimetype": "text/x-python",
   "name": "python",
   "nbconvert_exporter": "python",
   "pygments_lexer": "ipython3",
   "version": "3.8.5"
  }
 },
 "nbformat": 4,
 "nbformat_minor": 4
}
