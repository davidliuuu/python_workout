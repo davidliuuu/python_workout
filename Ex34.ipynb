{
 "cells": [
  {
   "cell_type": "markdown",
   "metadata": {},
   "source": [
    "**過濾檔案中特定條件的單字**\n",
    "\n",
    "1.寫一個函式**word_filter()**,能讀取文字檔,並將其中含有三個以上的母音字母的單字(不含句點)篩選出來，以list形式傳回。\n"
   ]
  },
  {
   "cell_type": "code",
   "execution_count": 33,
   "metadata": {},
   "outputs": [
    {
     "name": "stdout",
     "output_type": "stream",
     "text": [
      "['Beautiful', 'complicated', 'Readability']\n"
     ]
    }
   ],
   "source": [
    "def word_filter(file):\n",
    "    alist = {'a','e','i','o','u'}\n",
    "    blist = []\n",
    "    output = []\n",
    "    with open(file,'r') as f:\n",
    "        for line in f :\n",
    "            line =line.replace('.','')\n",
    "            line =line.replace('\\n','')          \n",
    "            blist = line.split(' ')\n",
    "            for i in blist:\n",
    "                if len(set (i) & alist) >= 3 :\n",
    "                    output.append(i)\n",
    "    return output\n",
    "print(word_filter('text2.txt'))"
   ]
  },
  {
   "cell_type": "code",
   "execution_count": 32,
   "metadata": {},
   "outputs": [
    {
     "name": "stdout",
     "output_type": "stream",
     "text": [
      "['Beautiful', 'complicated', 'Readability']\n"
     ]
    }
   ],
   "source": [
    "def word_filter(file):\n",
    "    alist = {'a','e','i','o','u'}\n",
    "    with open(file,'r') as f:\n",
    "        words = ([word.replace('.','') for line in f \n",
    "                                        for word in line.split()\n",
    "                                        if len(set(word) & alist) >= 3])\n",
    "    return words\n",
    "print(word_filter('text2.txt'))"
   ]
  },
  {
   "cell_type": "code",
   "execution_count": null,
   "metadata": {},
   "outputs": [],
   "source": []
  }
 ],
 "metadata": {
  "kernelspec": {
   "display_name": "Python 3",
   "language": "python",
   "name": "python3"
  },
  "language_info": {
   "codemirror_mode": {
    "name": "ipython",
    "version": 3
   },
   "file_extension": ".py",
   "mimetype": "text/x-python",
   "name": "python",
   "nbconvert_exporter": "python",
   "pygments_lexer": "ipython3",
   "version": "3.8.5"
  }
 },
 "nbformat": 4,
 "nbformat_minor": 4
}
