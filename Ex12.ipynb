{
 "cells": [
  {
   "cell_type": "markdown",
   "metadata": {},
   "source": [
    "**用排版格式輸出容器資料**\n",
    "\n",
    "1.寫一個函式sorted_grades()。\n",
    "\n",
    "2.將資料照成績排序後，以字串格式化加入適當的間隔與換行，並將此字串傳回(不要在函式內直接印出)。"
   ]
  },
  {
   "cell_type": "code",
   "execution_count": 3,
   "metadata": {},
   "outputs": [
    {
     "name": "stdout",
     "output_type": "stream",
     "text": [
      "Wooding     Alice     89.0\n",
      "Johnson     Bob       86.0\n",
      "Letterman   Cindy     93.0\n",
      "Moor        David     86.0\n",
      "Williams    Eddie     91.0\n"
     ]
    }
   ],
   "source": [
    "#f-string樣式設定\n",
    "\n",
    "grades = [\n",
    "    ('Alice','Wooding',89),\n",
    "    ('Bob','Johnson',86),\n",
    "    ('Cindy','Letterman',93),\n",
    "    ('David','Moor',86),\n",
    "    ('Eddie','Williams',91)\n",
    "]\n",
    "\n",
    "for first, last , grade in grades:\n",
    "    print(f'{last:12s}{first:10s}{grade:.1f}')"
   ]
  },
  {
   "cell_type": "code",
   "execution_count": 7,
   "metadata": {},
   "outputs": [
    {
     "name": "stdout",
     "output_type": "stream",
     "text": [
      "Johnson     Bob       86.0\n",
      "Moor        David     86.0\n",
      "Wooding     Alice     89.0\n",
      "Williams    Eddie     91.0\n",
      "Letterman   Cindy     93.0\n"
     ]
    }
   ],
   "source": [
    "import operator\n",
    "\n",
    "def sorted_grades(grades):\n",
    "    output = []\n",
    "    grades.sort(key = operator.itemgetter(2),reverse=False)\n",
    "    for first, last , grade in grades:\n",
    "        output.append(f'{last:12s}{first:10s}{grade:.1f}')\n",
    "    return '\\n'.join(output)\n",
    "\n",
    "grades = [\n",
    "    ('Alice','Wooding',89),\n",
    "    ('Bob','Johnson',86),\n",
    "    ('Cindy','Letterman',93),\n",
    "    ('David','Moor',86),\n",
    "    ('Eddie','Williams',91)\n",
    "]\n",
    "\n",
    "print(sorted_grades(grades))\n",
    "\n"
   ]
  },
  {
   "cell_type": "code",
   "execution_count": null,
   "metadata": {},
   "outputs": [],
   "source": []
  }
 ],
 "metadata": {
  "kernelspec": {
   "display_name": "Python 3",
   "language": "python",
   "name": "python3"
  },
  "language_info": {
   "codemirror_mode": {
    "name": "ipython",
    "version": 3
   },
   "file_extension": ".py",
   "mimetype": "text/x-python",
   "name": "python",
   "nbconvert_exporter": "python",
   "pygments_lexer": "ipython3",
   "version": "3.8.5"
  }
 },
 "nbformat": 4,
 "nbformat_minor": 4
}
