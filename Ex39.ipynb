{
 "cells": [
  {
   "cell_type": "markdown",
   "metadata": {},
   "source": [
    "**冰淇淋碗**\n",
    "\n",
    "1.沿用前面的**Scoop**類別,並撰寫一個**Bowl**類別。\n",
    "\n",
    "2.**scoops**屬性(一個list),用來收集Scoop的實例物件。\n",
    "\n",
    "3.**add_scoop()** method,可傳入數量不定的Scoop物件,將之放進scoops內。\n",
    " \n",
    "4.**show_content()** method,用字串傳回scoops中所有Scoop物件的flavor屬性。\n"
   ]
  },
  {
   "cell_type": "code",
   "execution_count": 8,
   "metadata": {},
   "outputs": [
    {
     "name": "stdout",
     "output_type": "stream",
     "text": [
      "巧克力/香草/薄荷\n",
      "--------\n",
      "冰淇淋碗口味:巧克力/香草/薄荷\n"
     ]
    }
   ],
   "source": [
    "class Scoop :\n",
    "    def __init__(self,flavor):\n",
    "        self.flavor = flavor\n",
    "    \n",
    "    def __repr__(self):\n",
    "        return f'Scoop({self.flavor})'\n",
    "        \n",
    "class Bowl:\n",
    "    def __init__(self):\n",
    "        self.scoops = []\n",
    "        \n",
    "    def add_scoop(self,*new_scoops):\n",
    "        for new_scoop in new_scoops:\n",
    "            self.scoops.append(new_scoop)\n",
    "    def show_content(self):\n",
    "        return '/'.join(scoop.flavor for scoop in self.scoops)\n",
    "    \n",
    "    def __str__(self):\n",
    "        flavors = '/'.join(scoop.flavor for scoop in self.scoops)\n",
    "        return f'冰淇淋碗口味:{flavors}'\n",
    "    \n",
    "    def __repr__(self):\n",
    "        return f'Bowl(scoops={self.scoops})'\n",
    "\n",
    "bowl = Bowl()\n",
    "bowl.add_scoop(Scoop('巧克力'))\n",
    "bowl.add_scoop(Scoop('香草'),Scoop('薄荷'))\n",
    "\n",
    "print(bowl.show_content()) #利用函式印出\n",
    "print('--------')\n",
    "print(bowl) #利用__str__(self)直接印出bowl屬性"
   ]
  },
  {
   "cell_type": "code",
   "execution_count": null,
   "metadata": {},
   "outputs": [],
   "source": []
  }
 ],
 "metadata": {
  "kernelspec": {
   "display_name": "Python 3",
   "language": "python",
   "name": "python3"
  },
  "language_info": {
   "codemirror_mode": {
    "name": "ipython",
    "version": 3
   },
   "file_extension": ".py",
   "mimetype": "text/x-python",
   "name": "python",
   "nbconvert_exporter": "python",
   "pygments_lexer": "ipython3",
   "version": "3.8.5"
  }
 },
 "nbformat": 4,
 "nbformat_minor": 4
}
