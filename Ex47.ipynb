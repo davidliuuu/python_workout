{
 "cells": [
  {
   "cell_type": "markdown",
   "metadata": {},
   "source": [
    "**循環取值器**\n",
    "\n",
    "1.撰寫兩個類別,**Cycle**會產生可走訪物件,該物件會傳回**Cyclelterator**類別的走訪器物件。\n",
    "\n",
    "2.可以再次走訪,會發現仍然能取得同樣的結果,不會產生錯誤。\n",
    "\n"
   ]
  },
  {
   "cell_type": "code",
   "execution_count": 1,
   "metadata": {},
   "outputs": [
    {
     "name": "stdout",
     "output_type": "stream",
     "text": [
      "a\n",
      "b\n",
      "c\n",
      "a\n",
      "b\n"
     ]
    }
   ],
   "source": [
    "class Cyclelterator:\n",
    "    def __init__(self , data , max_times):\n",
    "        self.data = data\n",
    "        self.max_times = max_times\n",
    "        self.index = 0\n",
    "    \n",
    "    def __next__(self):\n",
    "        if self.index >= self.max_times:\n",
    "            raise StopIteration\n",
    "        \n",
    "        value = self.data[self.index % len(self.data)]\n",
    "        self.index +=1\n",
    "        return value\n",
    "    \n",
    "class CycleList:\n",
    "    def __init__(self , data , max_times):\n",
    "        self.data = data\n",
    "        self.max_times = max_times\n",
    "    def __iter__(self):\n",
    "        return Cyclelterator(self.data , self.max_times)\n",
    "    \n",
    "    \n",
    "clist =CycleList(['a','b','c'],5)\n",
    "\n",
    "for c in clist :\n",
    "    print(c)"
   ]
  },
  {
   "cell_type": "code",
   "execution_count": null,
   "metadata": {},
   "outputs": [],
   "source": []
  }
 ],
 "metadata": {
  "kernelspec": {
   "display_name": "Python 3",
   "language": "python",
   "name": "python3"
  },
  "language_info": {
   "codemirror_mode": {
    "name": "ipython",
    "version": 3
   },
   "file_extension": ".py",
   "mimetype": "text/x-python",
   "name": "python",
   "nbconvert_exporter": "python",
   "pygments_lexer": "ipython3",
   "version": "3.8.5"
  }
 },
 "nbformat": 4,
 "nbformat_minor": 4
}
