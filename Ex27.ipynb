{
 "cells": [
  {
   "cell_type": "markdown",
   "metadata": {},
   "source": [
    "**自訂密碼產生器**\n",
    "\n",
    "1.寫一個函式**set_password_source()**，指定要拿來產生密碼的來源字串，它會傳回一個密碼產生器函式。\n",
    "\n",
    "2.只要呼叫這個函式，傳入長度參數就能產生特定長度的密碼:\n",
    "\n",
    "```\n",
    "\n",
    "    #input\n",
    "    my_password_gen = set_password_source('0123456789abcdefghij')\n",
    "    print(my_password_gen(10))\n",
    "    \n",
    "    #output\n",
    "    fd3436c16e\n",
    "   \n",
    "```  \n",
    "    "
   ]
  },
  {
   "cell_type": "code",
   "execution_count": 9,
   "metadata": {},
   "outputs": [
    {
     "name": "stdout",
     "output_type": "stream",
     "text": [
      "f3icgfh03d\n"
     ]
    }
   ],
   "source": [
    "import random\n",
    "\n",
    "def set_password_source(info):\n",
    "    \n",
    "    def my_password_gen(length):\n",
    "        output = []\n",
    "        \n",
    "        for i in range(0,length):\n",
    "            output.append(random.choice(info))\n",
    "            \n",
    "        return \"\".join(output)\n",
    "        \n",
    "    return my_password_gen\n",
    "    \n",
    "my_password_gen = set_password_source('0123456789abcdefghij')\n",
    "print(my_password_gen(10))   \n",
    "    \n"
   ]
  },
  {
   "cell_type": "code",
   "execution_count": null,
   "metadata": {},
   "outputs": [],
   "source": []
  }
 ],
 "metadata": {
  "kernelspec": {
   "display_name": "Python 3",
   "language": "python",
   "name": "python3"
  },
  "language_info": {
   "codemirror_mode": {
    "name": "ipython",
    "version": 3
   },
   "file_extension": ".py",
   "mimetype": "text/x-python",
   "name": "python",
   "nbconvert_exporter": "python",
   "pygments_lexer": "ipython3",
   "version": "3.8.5"
  }
 },
 "nbformat": 4,
 "nbformat_minor": 4
}
